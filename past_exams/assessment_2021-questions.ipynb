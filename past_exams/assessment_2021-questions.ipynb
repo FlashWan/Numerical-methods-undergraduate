{
 "cells": [
  {
   "cell_type": "markdown",
   "metadata": {},
   "source": [
    "# Numerical Methods\n",
    "\n",
    "# 2020/21 Class Assessment"
   ]
  },
  {
   "cell_type": "markdown",
   "metadata": {},
   "source": [
    "## Friday 7th May 2021\n",
    "\n",
    "## 11:00 - 14:00 (UK time: BST= GMT+1)"
   ]
  },
  {
   "cell_type": "markdown",
   "metadata": {},
   "source": [
    "## Test instructions\n",
    "\n",
    "\n",
    "* This test contains FOUR questions with multiple parts, **all** of which should be answered.\n",
    "\n",
    "\n",
    "\n",
    "* Write your solution in *markdown* (text and equations) and *code* (Python) cells under each question.\n",
    "\n",
    "\n",
    "\n",
    "* [You may if you choose also submit parts of your answers via **scans of hand written pages** - feel free to use this option in particular for supplementary sketches or equations, you will not be marked down for not embedding equations into your markdown cells. But please make sure that the question number each sheet you scan refers to is very clear. ]\n",
    "\n",
    "\n",
    "\n",
    "* You should provide an explanation of your solution as comments in your code and in the surrounding markdown cells as appropriate to answer the question and explain your steps.\n",
    "\n",
    "\n",
    "\n",
    "* Unless explicitly told otherwise in the question you can reuse any code from the lectures and homeworks, you can also use any calls to standard libraries (e.g. NumPy, SciPy).\n",
    "\n",
    "\n",
    "\n",
    "* **Save your work regularly**\n",
    "\n",
    "\n",
    "* At the end of the test you should if necessary **Download your Jupyter notebook** (i.e. the file with a .ipynb extension), and **email your Jupyter notebook document**  and any **scans of hand written sheets** to [Matthew Piggott](http://www.imperial.ac.uk/people/m.d.piggott) at <mailto:m.d.piggott@imperial.ac.uk>.\n",
    "\n",
    "\n",
    "\n",
    "* If there are any issues during the assessment period **please document these**, e.g. via photos, and as soon as possible email <mailto:m.d.piggott@imperial.ac.uk> to report the problem.\n",
    "\n",
    "\n",
    "\n",
    "* If your email attachments together are larger than 10Mb please use <https://fileexchange.ic.ac.uk/>"
   ]
  },
  {
   "cell_type": "markdown",
   "metadata": {},
   "source": [
    "This time-limited remote assessment is being run as an open-book examination. We have worked hard to create exams that assesses synthesis of knowledge rather than factual recall. Thus, access to the internet, notes or other sources of factual information in the time provided will not be helpful and may well limit your time to successfully synthesise the answers required. Where individual questions rely more on factual recall and may therefore be less discriminatory in an open book context, we may compare the performance on these questions to similar style questions in previous years and we may scale or ignore the marks associated with such questions or parts of the questions. The use of the work of another student, past or present, constitutes plagiarism. Giving your work to another student to use may also constitute an offence. Collusion is a form of plagiarism and will be treated in a similar manner. This is an individual assessment and thus should be completed solely by you. The College will investigate all instances where an examination or assessment offence is reported or suspected, using plagiarism software, vivas and other tools, and apply appropriate penalties to students. In all examinations we will analyse exam performance against previous performance and against data from previous years and use an evidence-based approach to maintain a fair and robust examination. As with all exams, the best strategy is to read the question carefully and answer as fully as possible, taking account of the time and number of marks available."
   ]
  },
  {
   "cell_type": "code",
   "execution_count": 1,
   "metadata": {},
   "outputs": [],
   "source": [
    "# you may import any libraries we used in lectures, e.g.\n",
    "\n",
    "%matplotlib inline\n",
    "import matplotlib.pyplot as plt\n",
    "\n",
    "import numpy as np\n",
    "import scipy.interpolate as si\n",
    "import scipy.linalg as sl\n",
    "import scipy.optimize as sop"
   ]
  },
  {
   "cell_type": "markdown",
   "metadata": {},
   "source": [
    "### Question 1 - differentiation and ODEs [25 marks]\n",
    "\n",
    "<br>\n",
    "\n",
    "**1.1  [10 marks]**\n",
    "\n",
    "Consider the following function of a single independent variable $t$:\n",
    "\n",
    "$$f(t) = \\exp(t)$$\n",
    "\n",
    "The forward difference approximation at the location (or time) $t$ is given by\n",
    "\n",
    "$$ f'(t)\\approx \\frac{f(t+\\Delta t)-f(t)}{\\Delta t} $$\n",
    "\n",
    "The backward difference approximation at $t$ is given by \n",
    "\n",
    "$$ f'(t)\\approx \\frac{f(t)-f(t - \\Delta t)}{\\Delta t} $$\n",
    "\n",
    "For appropriately small (not too small) values of $\\Delta t$ we expect both of these to provide accurate approximations to the value of the derivative of $f$ at $t$. Of course in this simple case the exact derivative of $f$ is also $\\exp(t)$.\n",
    "\n",
    "Write functions to evaluate these two approximations given an arbitratry function $f$, location $t$ and $\\Delta t$ value, and test them by performing an error/convergence analysis for the function $f(t)$ given above at the location $t=1$. \n",
    "\n",
    "Include appropriate plots of the errors against the step size $\\Delta t$, and provide estimates of the order of convergence of the two approximations. What do you observe?\n",
    "\n",
    "<br>\n",
    "\n",
    "**1.2 [7 marks]**\n",
    "\n",
    "The Taylor series expansion of a function $f$ about a point $t_0$ can be written as \n",
    "\n",
    "\\begin{align*}\n",
    "f(t) & \\approx f(t_0) + (t-t_0) f'(t_0) + \\frac{(t-t_0)^2}{2!}f''(t_0) + \\frac{(t-t_0)^3}{3!}f'''(t_0) + \\ldots\n",
    "\\end{align*}\n",
    "\n",
    "Use this expansion about $t_0=0$ to provide a mathematical approximation to the function $f(t) = \\exp(t)$ in the form of a polynomial in $t$.\n",
    "\n",
    "Use this expansion to derive by hand three approximations to the derivative function $f'(t)$ by differentiating the expansion and then excluding the terms that include powers of $t$ greater than 2, 3 and 4, i.e. by selecting where you truncate the expansion. \n",
    "\n",
    "Implement these in code.\n",
    "\n",
    "How does the resulting error in the approximation to $f'(1)$ that these approximations provide vary with the number of terms that you include in the truncated expansion, and how does this contrast with the behaviour from question 1.1?\n",
    "\n",
    "<br>\n",
    "\n",
    "**1.3 [8 marks]**\n",
    "\n",
    "Now consider the ODE problem \n",
    "\n",
    "$$ \\frac{dy}{dt} = \\exp(t), \\;\\;\\;\\;\\;\\; y(0) = 1, $$ \n",
    "\n",
    "which has the exact solution $y(t) = \\exp(t)$.\n",
    "\n",
    "The forward Euler method is given by\n",
    "\n",
    "$$ y(t+\\Delta t) = y(t)+ \\Delta t f(t)$$\n",
    "\n",
    "while the backward Euler method is given by\n",
    "\n",
    "$$ y(t+\\Delta t) = y(t)+ \\Delta t f(t+\\Delta t)$$\n",
    "\n",
    "For a given $\\Delta t$ these can be used to provide an approximation to how the exact solution varies with $t$, i.e. starting at $y(0)=1$ we can use them to compute an approximation to $y(\\Delta t)$, and then an approximation to $y(2\\Delta t)$, and so on.\n",
    "\n",
    "Write functions to implement these two time-stepping methods and by solving the given ODE problem from $t=0$ up to $t=1$ verify your implementations by performing a convergence analysis against the exact solution.\n",
    "\n",
    "By performing one or two time steps of the two methods (in code or by hand) describe qualtiatively how the numerical solution diverges from the true function as $t$ increases for the two methods. \n",
    "Based upon what you observe, derive and implement a third method based upon appropriately combining the forward and the backward Euler methods; demonstrate clearly any improvement you are able to achieve."
   ]
  },
  {
   "cell_type": "markdown",
   "metadata": {},
   "source": []
  },
  {
   "cell_type": "markdown",
   "metadata": {},
   "source": [
    "This is my understanding of what you;re asking me to do\n",
    "\n",
    "Some maths that I might ask you to do at start of question \n",
    "\n",
    "$$f(x) = x^3$$"
   ]
  },
  {
   "cell_type": "code",
   "execution_count": 4,
   "metadata": {},
   "outputs": [
    {
     "name": "stdout",
     "output_type": "stream",
     "text": [
      "some code\n"
     ]
    }
   ],
   "source": [
    "print('some code')"
   ]
  },
  {
   "cell_type": "markdown",
   "metadata": {},
   "source": [
    "This is my interpretation of the plot that my code has generated."
   ]
  },
  {
   "cell_type": "code",
   "execution_count": null,
   "metadata": {},
   "outputs": [],
   "source": []
  },
  {
   "cell_type": "markdown",
   "metadata": {},
   "source": [
    "### Question 2 - integration/quadrature [25 marks]\n",
    "\n",
    "<br>\n",
    "\n",
    "**2.1 [10 marks]**\n",
    "\n",
    "Recall that the trapezoidal quadrature rule can be written as\n",
    "\n",
    "$$I_T = \\sum_{i=0}^{n-1}\\, \\left(\\frac{f(x_{i+1}) + f(x_{i})}{2}\\right )\\, (x_{i+1}-x_i). $$\n",
    "\n",
    "This provides an approximation to the integral of the function $f(x)$ over the interval spanned\n",
    "by the equally spaced $x_i$ locations, i.e. \n",
    "\n",
    "$$I_T\\approx \\int_{x_0}^{x_n} f(x)\\, dx.$$\n",
    "\n",
    "Derive mathematically and implement in code the composite version of this rule, i.e. one which minimises the number of times that $f$ needs to be evaluated. Verify your implementation by checking for convergence using the problem\n",
    "\n",
    "$$\\int_0^1 \\exp(x)\\, dx = \\exp(1) - \\exp(0) = \\exp(1) - 1$$\n",
    "\n",
    "<br>\n",
    "\n",
    "**2.2  [10 marks]**\n",
    "\n",
    "Since the Trapezoidal rule is second order, i.e. the error should reduce by a factor of 4 if we double the number of intervals (equivalently make the interval size half the size), then we can combine the results from two evaluations of the trapezoidal rule with two different $\\Delta x$ values in order to cancel the leading order error term and arrive at a more accurate result.\n",
    "\n",
    "Using the notation $I_T$ for the output of the trapezoidal rule with $n$ intervals, and $I_{T_2}$ for the output with $2n$ intervals, explain why the result\n",
    "\n",
    "$$I = \\frac{1}{3}\\left( 4I_{T_2} - I_T \\right)$$\n",
    "\n",
    "can be expected to yield a more accurate approximation to the integral than either $I_T$ or $I_{T_2}$ alone. \n",
    "\n",
    "Using the test case function from 2.1, implement this method and demonstrate its improved accuracy.\n",
    "\n",
    "<br>\n",
    "\n",
    "**2.3  [5 marks]**\n",
    "\n",
    "Starting from the mathematical form of the composite trapezoidal rule, demonstrate that the new rule \n",
    "\n",
    "$$I = \\frac{1}{3}\\left( 4I_{T_2} - I_T \\right)$$\n",
    "\n",
    "from part 2.2 is actually equivalent to Simpson's rule."
   ]
  },
  {
   "cell_type": "markdown",
   "metadata": {},
   "source": []
  },
  {
   "cell_type": "code",
   "execution_count": null,
   "metadata": {},
   "outputs": [],
   "source": []
  },
  {
   "cell_type": "markdown",
   "metadata": {},
   "source": [
    "### Question 3 - interpolation and root-finding [25 marks]\n",
    "\n",
    "<br>\n",
    "\n",
    "**3.1 [12 marks]**\n",
    "\n",
    "Consider the three $(x,y)$ data points\n",
    "\n",
    "$$\\{\\;\\;(0,1), \\;\\;(0.4, 0.1),\\;\\; (1,0.5)\\; \\}$$\n",
    "\n",
    "Consider initially only the outer two points $\\{(x_0,y_0),  (x_2,y_2)\\}$.\n",
    "Derive by hand the Lagrange polynomial that passes through these two points and show (e.g. through a Python plot) that your result agrees with the result you can obtain using SciPy.\n",
    "\n",
    "Repeat for all three points.\n",
    "\n",
    "<br>\n",
    "\n",
    "**3.2 [3 marks]**\n",
    "\n",
    "Give an example of four distinct data points that can be interpolated using a quadratic function.\n",
    "\n",
    "\n",
    "<br>\n",
    "\n",
    "**3.3 [10 marks]**\n",
    "\n",
    "Consider now the root-finding problem applied to a quadratic function\n",
    "\n",
    "$$f(x) = ax^2 + bx + c$$\n",
    "\n",
    "Provide examples of quadratic functions (i.e. select values for $a$, $b$ and $c$) with zero, one and multiple real-valued roots.\n",
    "\n",
    "In the case where they exist, use Newton's method to find the roots.\n",
    "\n",
    "Using the quadratic example, explain and demonstrate how Newton's method can fail. "
   ]
  },
  {
   "cell_type": "markdown",
   "metadata": {},
   "source": []
  },
  {
   "cell_type": "code",
   "execution_count": null,
   "metadata": {},
   "outputs": [],
   "source": []
  },
  {
   "cell_type": "markdown",
   "metadata": {},
   "source": [
    "### Question 4 - numerical linear algebra [25 marks]\n",
    "\n",
    "<br>\n",
    "\n",
    "Consider the following set of linear equations\n",
    "\n",
    "\\begin{align*}\n",
    "  2x_0 + 3x_1 + x_2 + 5x_3 &= 4 \\\\[5pt]\n",
    "  8x_0 + 16x_1 + 7x_2 + 22x_3 &= 24 \\\\[5pt] \n",
    "  2x_0 + 15x_1 + 13x_2 + 19x_3 &= 30 \\\\[5pt]\n",
    "  -4x_0 + 2x_1 + 10x_2 + 11x_3 &= 13   \n",
    "\\end{align*}\n",
    "\n",
    "<br>\n",
    "\n",
    "**4.1 [12 marks]**\n",
    "\n",
    "Write this in matrix form ($A\\pmb{x}=\\pmb{b}$). In explaining the steps required to perform a transformation of the $A$ matrix into upper triangular form, derive by hand the $L$ and $U$ matrices in the $LU$ decomposition of $A$. \n",
    "\n",
    "Compare your answer with that obtained from code to perform $LU$ decomposition from class.  Do **not** use partial pivoting, and in your hand derivation do not perform any row swaps.\n",
    "\n",
    "<br>\n",
    "\n",
    "**4.2  [3 marks]**\n",
    "\n",
    "Using the $L$ and $U$ from 4.1, solve the above linear system (by hand or with code). Verify your answer against any other solution method available via NumPy or SciPy.\n",
    "\n",
    "<br>\n",
    "\n",
    "**4.3  [10 marks]**\n",
    "\n",
    "Explain the differences between a direct and an indirect/iterative solution method. Solve the above problem using Gauss-Seidel's method and comment on the agreement between the solution you obtain with Gauss-Seidel and that obtained in part 4.2. Demonstrate how you can make this agreement arbitrarily close.\n"
   ]
  },
  {
   "cell_type": "markdown",
   "metadata": {},
   "source": []
  },
  {
   "cell_type": "code",
   "execution_count": null,
   "metadata": {},
   "outputs": [],
   "source": []
  }
 ],
 "metadata": {
  "celltoolbar": "Slideshow",
  "kernelspec": {
   "display_name": "Python 3",
   "language": "python",
   "name": "python3"
  },
  "language_info": {
   "codemirror_mode": {
    "name": "ipython",
    "version": 3
   },
   "file_extension": ".py",
   "mimetype": "text/x-python",
   "name": "python",
   "nbconvert_exporter": "python",
   "pygments_lexer": "ipython3",
   "version": "3.7.3"
  },
  "toc": {
   "base_numbering": 1,
   "nav_menu": {},
   "number_sections": false,
   "sideBar": false,
   "skip_h1_title": false,
   "title_cell": "Table of Contents",
   "title_sidebar": "Contents",
   "toc_cell": false,
   "toc_position": {
    "height": "calc(100% - 180px)",
    "left": "10px",
    "top": "150px",
    "width": "258.313px"
   },
   "toc_section_display": false,
   "toc_window_display": false
  }
 },
 "nbformat": 4,
 "nbformat_minor": 1
}
