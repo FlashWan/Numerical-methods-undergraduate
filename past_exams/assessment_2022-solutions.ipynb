{
 "cells": [
  {
   "cell_type": "markdown",
   "metadata": {},
   "source": [
    "# Numerical Methods\n",
    "\n",
    "# 2021/22 Class Assessment\n",
    "\n",
    "The following gives sketches of solutions - code is reused from lectures in many places."
   ]
  },
  {
   "cell_type": "markdown",
   "metadata": {},
   "source": [
    "## Thursday 12th May 2022\n",
    "\n",
    "## 11:00 - 14:00 (UK time: BST= GMT+1)"
   ]
  },
  {
   "cell_type": "markdown",
   "metadata": {},
   "source": [
    "## Test instructions\n",
    "\n",
    "\n",
    "* This test contains **FIVE** questions with multiple parts, **all** of which should be answered.\n",
    "\n",
    "\n",
    "\n",
    "* Write your solution in *markdown* (text and equations) and *code* (Python) cells under each question.\n",
    "\n",
    "\n",
    "\n",
    "* [You may if you choose also submit parts of your answers via **scans of hand written pages** - feel free to use this option in particular for supplementary sketches or equations, you will not be marked down for not embedding equations into your markdown cells. But please make sure that the question number each sheet you scan refers to is very clear. Please use the Microsoft Office Lens solution you're using for exams.]\n",
    "\n",
    "\n",
    "\n",
    "* You should provide an explanation of your solution as comments in your code and in the surrounding markdown cells as appropriate to answer the question and explain your steps.\n",
    "\n",
    "\n",
    "\n",
    "* Unless explicitly told otherwise in the question you can reuse any code from the lectures and homeworks, you can also use any calls to standard libraries (e.g. NumPy, SciPy).\n",
    "\n",
    "\n",
    "\n",
    "* **Save your work regularly**\n",
    "\n",
    "\n",
    "* At the end of the test you should if necessary **Download your Jupyter notebook** (i.e. the file with a .ipynb extension), and **email your Jupyter notebook document**  and any **scans of hand written sheets** to [Matthew Piggott](http://www.imperial.ac.uk/people/m.d.piggott) at <mailto:m.d.piggott@imperial.ac.uk>.\n",
    "\n",
    "\n",
    "\n",
    "* If there are any issues during the assessment period **please document these**, e.g. via photos, and as soon as possible email <mailto:m.d.piggott@imperial.ac.uk> to report the problem.\n",
    "\n",
    "\n",
    "\n",
    "* If your email attachments together are larger than 10Mb please use <https://fileexchange.ic.ac.uk/>"
   ]
  },
  {
   "cell_type": "markdown",
   "metadata": {},
   "source": [
    "This time-limited remote assessment is being run as an open-book examination. We have worked hard to create exams that assesses synthesis of knowledge rather than factual recall. Thus, access to the internet, notes or other sources of factual information in the time provided will not be helpful and may well limit your time to successfully synthesise the answers required. Where individual questions rely more on factual recall and may therefore be less discriminatory in an open book context, we may compare the performance on these questions to similar style questions in previous years and we may scale or ignore the marks associated with such questions or parts of the questions. The use of the work of another student, past or present, constitutes plagiarism. Giving your work to another student to use may also constitute an offence. Collusion is a form of plagiarism and will be treated in a similar manner. This is an individual assessment and thus should be completed solely by you. The College will investigate all instances where an examination or assessment offence is reported or suspected, using plagiarism software, vivas and other tools, and apply appropriate penalties to students. In all examinations we will analyse exam performance against previous performance and against data from previous years and use an evidence-based approach to maintain a fair and robust examination. As with all exams, the best strategy is to read the question carefully and answer as fully as possible, taking account of the time and number of marks available."
   ]
  },
  {
   "cell_type": "code",
   "execution_count": 122,
   "metadata": {},
   "outputs": [],
   "source": [
    "# you may import any libraries we used in lectures, e.g.\n",
    "\n",
    "%matplotlib inline\n",
    "import matplotlib.pyplot as plt\n",
    "\n",
    "import numpy as np\n",
    "import scipy.interpolate as si\n",
    "import scipy.integrate as integrate\n",
    "import scipy.linalg as sl\n",
    "import scipy.optimize as sop"
   ]
  },
  {
   "cell_type": "markdown",
   "metadata": {},
   "source": [
    "### Question 1 - interpolation, extrapolation and curve-fitting [20 marks]\n",
    "\n",
    "<br>\n",
    "\n",
    "Consider a data set made up of multiple $(x,y)$ values.\n",
    "\n",
    "<br>\n",
    "\n",
    "**1.1 [6 marks]**\n",
    "\n",
    "Explain what the tasks of interpolation, extrapolation and curve-fitting are. \n",
    "\n",
    "<br>\n",
    "\n",
    "**1.2 [7 marks]**\n",
    "\n",
    "Make up your own sample data set made up of five distinct $(x,y)$ values and write some Python code and plot your results to demonstrate interpolation, extrapolation and curve-fitting for this data.\n",
    "\n",
    "\n",
    "<br>\n",
    "\n",
    "**1.3 [7 marks]**\n",
    "\n",
    "Can you always use each of these three techniques, no matter what your data is, or are there some situations where it is either not possible or potentially dangerous to use any of them? \n",
    "\n",
    "Support your answer with additional numerical examples as appropriate.\n"
   ]
  },
  {
   "cell_type": "code",
   "execution_count": null,
   "metadata": {},
   "outputs": [],
   "source": []
  },
  {
   "cell_type": "markdown",
   "metadata": {},
   "source": [
    "### Question 2 - numerical differentiation  [20 marks]\n",
    "\n",
    "<br>\n",
    "\n",
    "Consider a function of one independent variable: $f(x)$.\n",
    "\n",
    "<br>\n",
    "\n",
    "The first-order forward difference approximation to the derivative of $f$ at location $x$ is given by\n",
    "\n",
    "$$ f'(x)\\approx \\frac{f(x+\\Delta x)-f(x)}{\\Delta x} $$\n",
    "\n",
    "The second-order central difference approximation to the derivative of $f$ at location $x$ is given by \n",
    "\n",
    "$$ f'(x)\\approx \\frac{f(x+\\Delta x)-f(x - \\Delta x)}{2 \\Delta x} $$\n",
    "\n",
    "The fourth-order central difference approximation to the derivative of $f$ at location $x$ is given by\n",
    "\n",
    "$$ f'(x)\\approx \\frac{-f(x + 2\\Delta x) + 8 f(x+\\Delta x)- 8 f(x - \\Delta x) + f(x - 2\\Delta x)}{12 \\Delta x} $$\n",
    "\n",
    "\n",
    "For appropriate values of $\\Delta x$ (not too large, not too small) we expect all three of these to provide accurate approximations to the value of the derivative of $f$ at $x$. \n",
    "\n",
    "<br>\n",
    "\n",
    "**2.1  [10 marks]**\n",
    "\n",
    "Write functions to evaluate these three approximations given an arbitrary function $f$, location $x$ and $\\Delta x$ value. \n",
    "\n",
    "Check your implementations by evaluating the derivative of the function\n",
    "\n",
    "$$f(x) = \\sin(x)$$\n",
    "\n",
    "at location $x=1$.\n",
    "\n",
    "<br>\n",
    "\n",
    "**2.2 [10 marks]**\n",
    "\n",
    "A thorough verification of the correctness of your code should involve a convergence analysis. Perform such an analysis by computing the errors in your derivative approximations for a series of $\\Delta x$ values.\n",
    "\n",
    "The use of the terms \"first-order\", \"second-order\" and \"fourth-order\" in the description of the methods above means that as we halve the value of $\\Delta x$ we expect the errors to decrease by a factor $2^1=2$, $2^2=4$ and $2^4=16$, respectively.\n",
    "\n",
    "For a series of $\\Delta x$ values, compute errors using the function and location from part 2.1, evaluate these error decrease factors for your implementations, and comment on how close to the expected values 2, 4 and 16 you obtain.\n",
    "\n",
    "When errors and plotted against $\\Delta x$ values in log-log space these convergence properties\n",
    "should result in straight line plots with slope 1, 2 and 4. Check this.\n",
    "\n"
   ]
  },
  {
   "cell_type": "markdown",
   "metadata": {},
   "source": [
    "## Solution"
   ]
  },
  {
   "cell_type": "code",
   "execution_count": 121,
   "metadata": {},
   "outputs": [
    {
     "name": "stdout",
     "output_type": "stream",
     "text": [
      "Exact derivative =  0.5403023058681398\n",
      "  Forward difference                      Central difference                                              4th order diff\n",
      "2.0703757280942545 3.962661493592264 15.646685818498879\n",
      "2.0442968622536406 3.990635109130571 15.910954720055004\n",
      "2.024446444996047 3.9976568820717304 15.977693627704381\n",
      "2.0127995921521316 3.9994141019940024 15.994419603917725\n",
      "2.0065440763888964 3.9998535181554447 15.99862971492506\n",
      "2.0033081289331003 3.9999633811719444 16.000276357835407\n",
      "2.0016630895662786 3.9999908442029573 16.007231596514\n"
     ]
    },
    {
     "data": {
      "text/plain": [
       "<matplotlib.legend.Legend at 0x11b399e9470>"
      ]
     },
     "execution_count": 121,
     "metadata": {},
     "output_type": "execute_result"
    },
    {
     "data": {
      "image/png": "[encoded data removed]",
      "text/plain": [
       "<Figure size 504x360 with 1 Axes>"
      ]
     },
     "metadata": {
      "needs_background": "light"
     },
     "output_type": "display_data"
    }
   ],
   "source": [
    "def forward_diff(f, x, dx):\n",
    "    fx = f(x)\n",
    "    fxph = f(x + dx)\n",
    "    return (fxph - fx) / dx\n",
    "\n",
    "\n",
    "def central_diff2(f, x, dx):\n",
    "    fxph = f(x + dx)\n",
    "    fxmh = f(x - dx)\n",
    "    return (fxph - fxmh) / (2 * dx)\n",
    "\n",
    "def central_diff4(f, x, dx):\n",
    "    fxph = f(x + dx)\n",
    "    fxp2h = f(x + 2*dx)\n",
    "    fxmh = f(x - dx)\n",
    "    fxm2h = f(x - 2*dx)\n",
    "    return (-fxp2h + 8*fxph - 8*fxmh + fxm2h) / (12 * dx)\n",
    "\n",
    "def fun(x):\n",
    "    return np.sin(x)\n",
    "\n",
    "\n",
    "# for this example we know trivially what the exact solution should be\n",
    "x = 1\n",
    "exact = np.cos(x)\n",
    "\n",
    "\n",
    "print('Exact derivative = ', exact)\n",
    "# headers for the following errors outputs\n",
    "print('%20s%40s%60s' % ('Forward difference', 'Central difference', '4th order diff'))\n",
    "\n",
    "# we're going to store all the values for plotting, initialise variable for these\n",
    "fd_errors = []\n",
    "cd2_errors = []\n",
    "cd4_errors = []\n",
    "\n",
    "dx_all = []\n",
    "dx = 0.5  # an initial mesh spacing\n",
    "for i in range(8):\n",
    "    fd = forward_diff(fun, x, dx)\n",
    "    cd2 = central_diff2(fun, x, dx)\n",
    "    cd4 = central_diff4(fun, x, dx)    \n",
    "    #print('%10g (error=%10.2g)         %10g (error=%10.2g)      %10g (error=%10.2g)' %\n",
    "    #      (fd, abs(fd - exact), cd2, abs(cd2 - exact), cd4, abs(cd4 - exact)))\n",
    "    # store the dt values and the errors\n",
    "    dx_all.append(dx)\n",
    "    fd_errors.append(abs(fd - exact))\n",
    "    cd2_errors.append(abs(cd2 - exact))\n",
    "    cd4_errors.append(abs(cd4 - exact))\n",
    "    dx = dx / 2  # halve h for the next iteration\n",
    "\n",
    "    \n",
    "for i in range(len(dx_all)-1):\n",
    "    print(fd_errors[i]/fd_errors[i+1], cd2_errors[i]/cd2_errors[i+1], cd4_errors[i]/cd4_errors[i+1] )\n",
    "    \n",
    "# as we expect a polynomial relationship between dx and the errors,\n",
    "# a log-log plot will demonstrate this if we get straight lines\n",
    "# the slopes of these lines indicating the order of the relationship:\n",
    "# slope 1 for forward diff and slope 2 for central diff\n",
    "\n",
    "# set up figure\n",
    "fig = plt.figure(figsize=(7, 5))\n",
    "ax1 = plt.subplot(111)\n",
    "\n",
    "ax1.loglog(dx_all, fd_errors, 'b.-', label='Forward diff.')\n",
    "ax1.loglog(dx_all, cd2_errors, 'k.-', label='Central diff.2')\n",
    "ax1.loglog(dx_all, cd4_errors, 'r.-', label='Central diff.4')\n",
    "ax1.set_xlabel('$\\Delta x$', fontsize=16)\n",
    "ax1.set_ylabel('Error', fontsize=16)\n",
    "ax1.set_title('Convergence plot', fontsize=16)\n",
    "ax1.grid(True)\n",
    "ax1.legend(loc='best', fontsize=14)\n",
    "\n",
    "\n",
    "## not necessary:\n",
    "from mpltools import annotation\n",
    "# use numpy.polyfit to find best fit linear line to data\n",
    "\n",
    "# what does this parameter do, and what happens if you choose equal to a smaller value\n",
    "start_fit = 0\n",
    "\n",
    "line_fit_fd = np.polyfit(np.log(dx_all[start_fit:]), np.log(fd_errors[start_fit:]), 1)\n",
    "line_fit_cd2 = np.polyfit(np.log(dx_all[start_fit:]), np.log(cd2_errors[start_fit:]), 1)\n",
    "line_fit_cd4 = np.polyfit(np.log(dx_all[start_fit:]), np.log(cd4_errors[start_fit:]), 1)\n",
    "\n",
    "ax1.loglog(dx_all, np.exp(line_fit_fd[1]) * dx_all**(line_fit_fd[0]), 'k-', label = 'slope: {:.2f}'.format(line_fit_fd[0]))\n",
    "ax1.loglog(dx_all, np.exp(line_fit_cd2[1]) * dx_all**(line_fit_cd2[0]), 'b-', label = 'slope: {:.2f}'.format(line_fit_cd2[0]))\n",
    "ax1.loglog(dx_all, np.exp(line_fit_cd4[1]) * dx_all**(line_fit_cd4[0]), 'r-', label = 'slope: {:.2f}'.format(line_fit_cd4[0]))\n",
    "\n",
    "\n",
    "annotation.slope_marker((2e-2, 5e-3), (1, 1), ax=ax1, size_frac=0.2, pad_frac=0.05)\n",
    "annotation.slope_marker((2e-2, 2e-5), (2, 1), ax=ax1, size_frac=0.2, pad_frac=0.05)\n",
    "annotation.slope_marker((2e-2, 1e-9), (4, 1), ax=ax1, size_frac=0.2, pad_frac=0.05)\n",
    "\n",
    "ax1.legend(loc='best', fontsize=14)"
   ]
  },
  {
   "cell_type": "markdown",
   "metadata": {},
   "source": [
    "<br>\n",
    "\n",
    "**1.3 [4 marks]**\n",
    "\n",
    "For our case of $f(x) = \\sin(x)$ demonstrate why we expect the approximation to the derivative to be completely inaccurate if the value of $\\Delta x$ is chosen too large.\n",
    "\n",
    "For this specific function, can you think of a particular  $x$ location where we expect the central differences approximations to be zero (to round off error), but the forward difference to be, relatively speaking, much larger?"
   ]
  },
  {
   "cell_type": "code",
   "execution_count": 9,
   "metadata": {},
   "outputs": [
    {
     "name": "stdout",
     "output_type": "stream",
     "text": [
      "Exact derivative =  6.123233995736766e-17\n",
      "  Forward difference                      Central difference                                              4th order diff\n"
     ]
    },
    {
     "data": {
      "text/plain": [
       "<matplotlib.legend.Legend at 0x11b37ba3f98>"
      ]
     },
     "execution_count": 9,
     "metadata": {},
     "output_type": "execute_result"
    },
    {
     "data": {
      "image/png": "[encoded data removed]",
      "text/plain": [
       "<Figure size 504x360 with 1 Axes>"
      ]
     },
     "metadata": {
      "needs_background": "light"
     },
     "output_type": "display_data"
    }
   ],
   "source": [
    "def forward_diff(f, x, dx):\n",
    "    fx = f(x)\n",
    "    fxph = f(x + dx)\n",
    "    return (fxph - fx) / dx\n",
    "\n",
    "\n",
    "def central_diff2(f, x, dx):\n",
    "    fxph = f(x + dx)\n",
    "    fxnh = f(x - dx)\n",
    "    return (fxph - fxnh) / (2 * dx)\n",
    "\n",
    "def central_diff4(f, x, dx):\n",
    "    fxph = f(x + dx)\n",
    "    fxp2h = f(x + 2*dx)\n",
    "    fxnh = f(x - dx)\n",
    "    fxm2h = f(x - 2*dx)\n",
    "    return (-fxp2h + 8*fxph - 8*fxnh + fxm2h) / (12 * dx)\n",
    "\n",
    "def fun(x):\n",
    "    return np.sin(x)\n",
    "\n",
    "\n",
    "# for this example we know trivially what the exact solution should be\n",
    "x = np.pi/2\n",
    "exact = np.cos(x)\n",
    "\n",
    "\n",
    "print('Exact derivative = ', exact)\n",
    "# headers for the following errors outputs\n",
    "print('%20s%40s%60s' % ('Forward difference', 'Central difference', '4th order diff'))\n",
    "\n",
    "# we're going to store all the values for plotting, initialise variable for these\n",
    "fd_errors = []\n",
    "cd2_errors = []\n",
    "cd4_errors = []\n",
    "\n",
    "dx_all = []\n",
    "dx = 0.5  # an initial mesh spacing\n",
    "for i in range(8):\n",
    "    fd = forward_diff(fun, x, dx)\n",
    "    cd2 = central_diff2(fun, x, dx)\n",
    "    cd4 = central_diff4(fun, x, dx)    \n",
    "    # store the dt values and the errors\n",
    "    dx_all.append(dx)\n",
    "    fd_errors.append(abs(fd - exact))\n",
    "    cd2_errors.append(abs(cd2 - exact))\n",
    "    cd4_errors.append(abs(cd4 - exact))\n",
    "    dx = dx / 2  # halve h for the next iteration\n",
    "\n",
    "# as we expect a polynomial relationship between dx and the errors,\n",
    "# a log-log plot will demonstrate this if we get straight lines\n",
    "# the slopes of these lines indicating the order of the relationship:\n",
    "# slope 1 for forward diff and slope 2 for central diff\n",
    "\n",
    "# set up figure\n",
    "fig = plt.figure(figsize=(7, 5))\n",
    "ax1 = plt.subplot(111)\n",
    "\n",
    "ax1.loglog(dx_all, fd_errors, 'b.-', label='Forward diff.')\n",
    "ax1.loglog(dx_all, cd2_errors, 'k.-', label='Central diff.2')\n",
    "ax1.loglog(dx_all, cd4_errors, 'r.-', label='Central diff.4')\n",
    "ax1.set_xlabel('$\\Delta x$', fontsize=16)\n",
    "ax1.set_ylabel('Error', fontsize=16)\n",
    "ax1.set_title('Convergence plot', fontsize=16)\n",
    "ax1.grid(True)\n",
    "ax1.legend(loc='best', fontsize=14)"
   ]
  },
  {
   "cell_type": "markdown",
   "metadata": {},
   "source": [
    "### Question 3 - integration/quadrature [20 marks]\n",
    "\n",
    "<br>\n",
    "\n",
    "Consider the following function\n",
    "\n",
    "\\begin{equation}\n",
    "f(x) = x \\mathrm{sin}(\\pi x)-\\mathrm{e}^{-x} + 10\n",
    "\\end{equation}\n",
    "\n",
    "where our aim is to accurately compute the integral \n",
    "\n",
    "$$I = \\int_{-2}^2 f(x)\\, dx $$\n",
    "\n",
    "\n",
    "**3.1 [10 marks]**\n",
    "\n",
    "For functions such as this where it is not immediately obvious what the exact value for $I$ is, we can still use them for the purposes of verifying quadrature code implementations. \n",
    "\n",
    "We achieve this by computing a very accurate estimate for the true integral using a (potentially very) high number of quadrature sub-intervals with a quadrature code we trust. We then use this accurate estimate as \"truth\" and compute errors with respect to this.\n",
    "\n",
    "Select a quadrature method and evaluate a very accurate estimate for the value of $I$. Justify why your estimate is accurate and can be trusted.\n",
    "\n",
    "<br>\n",
    "\n",
    "**3.2  [10 marks]**\n",
    "\n",
    "Perform a convergence analysis using the above function, integration interval and your very accurate estimate for $I$ from the first part of this question, i.e. plot the errors as a function of the number of sub-intervals, for the quadrature methods\n",
    "\n",
    "* Midpoint rule\n",
    "* Trapezoid rule\n",
    "* Simpson's rule\n",
    "* Weddle's rule"
   ]
  },
  {
   "cell_type": "markdown",
   "metadata": {},
   "source": [
    "## Solution"
   ]
  },
  {
   "cell_type": "code",
   "execution_count": 120,
   "metadata": {},
   "outputs": [
    {
     "name": "stdout",
     "output_type": "stream",
     "text": [
      "1 24.951217235665474\n",
      "2 32.31707241188849\n",
      "4 32.71032117977026\n",
      "8 31.410500239162456\n",
      "16 31.46998055718536\n",
      "32 31.472858460441792\n",
      "64 31.47302846276194\n",
      "128 31.47303894328027\n",
      "256 31.47303959608782\n",
      "512 31.473039636853663\n",
      "1024 31.473039639400987\n",
      "2048 31.473039639560184\n",
      "4096 31.473039639570136\n",
      "8192 31.473039639570757\n",
      "16384 31.473039639570796\n",
      "32768 31.4730396395708\n",
      "65536 31.4730396395708\n"
     ]
    }
   ],
   "source": [
    "def f(x):\n",
    "    return x*np.sin(np.pi*x) - np.exp(-x) + 10.\n",
    "\n",
    "xl = -2\n",
    "xr = 2\n",
    "\n",
    "for interval_sizes in [2**i for i in range(17)]:\n",
    "    xx = np.linspace(xl, xr, interval_sizes+1)\n",
    "    print(interval_sizes, integrate.simps(f(xx), xx) )\n",
    "    \n",
    "true_int = integrate.simps(f(xx), xx)"
   ]
  },
  {
   "cell_type": "code",
   "execution_count": 47,
   "metadata": {},
   "outputs": [],
   "source": [
    "def midpoint_rule(a, b, function, number_intervals=10):\n",
    "    \"\"\" Our implementation of the midpoint quadrature rule.\n",
    "    \n",
    "    a and b are the end points for our interval of interest.\n",
    "    \n",
    "    'function' is the function of x \\in [a,b] which we can evaluate as needed.\n",
    "    \n",
    "    number_intervals is the number of subintervals/bins we split [a,b] into.\n",
    "    \n",
    "    Returns the integral of function(x) over [a,b].\n",
    "    \"\"\"\n",
    "    interval_size = (b - a)/number_intervals\n",
    "\n",
    "    # Some examples of some asserts which might be useful here - \n",
    "    # you should get into the habit of using these sorts of checks as much as is possible/sensible.\n",
    "    assert interval_size > 0\n",
    "    assert type(number_intervals) == int\n",
    "    \n",
    "    # Initialise to zero the variable that will contain the cumulative sum of all the areas\n",
    "    I_M = 0.0\n",
    "    \n",
    "    # Find the first midpoint -- i.e. the centre point of the base of the first rectangle\n",
    "    mid = a + (interval_size/2.0)\n",
    "    # and loop until we get past b, creating and summing the area of each rectangle\n",
    "    while (mid < b):\n",
    "        # Find the area of the current rectangle and add it to the running total\n",
    "        # this involves an evaluation of the function at the subinterval midpoint\n",
    "        I_M += interval_size * function(mid)\n",
    "        # Move the midpoint up to the next centre of the interval\n",
    "        mid += interval_size\n",
    "\n",
    "    # Return our running total result\n",
    "    return I_M\n",
    "\n",
    "\n",
    "def trapezoidal_rule(a, b, function, number_intervals=10):\n",
    "    \"\"\"Our implementation of the trapezoidal quadrature rule.\n",
    "    \n",
    "    Note that as discussed in the lecture this version of the implementation \n",
    "    performs redundant function evaluations - see the composite implementation \n",
    "    in the homework for a more efficient version.\n",
    "    \"\"\"\n",
    "    interval_size = (b - a)/number_intervals\n",
    "\n",
    "    assert interval_size > 0\n",
    "    assert type(number_intervals) == int\n",
    "\n",
    "    I_T = 0.0\n",
    "\n",
    "    # Loop to create each trapezoid\n",
    "    # note this function takes a slightly different approach to Midpoint \n",
    "    # (a for loop rather than a while loop) to achieve the same thing\n",
    "    for i in range(number_intervals):\n",
    "        # Set the start of this interval \n",
    "        this_bin_start = a + (interval_size * i)\n",
    "        # Find the area of the current trapezoid and add it to the running total\n",
    "        I_T += interval_size * \\\n",
    "                (function(this_bin_start)+function(this_bin_start+interval_size))/2.0\n",
    "\n",
    "    # Return our running total result\n",
    "    return I_T\n",
    "\n",
    "\n",
    "def simpsons_rule(a, b, function, number_intervals=10):\n",
    "    \"\"\" Function to evaluate Simpson's rule. \n",
    "    \n",
    "    Note that this implementation takes the function as an argument, \n",
    "    and evaluates this at the midpoint of subintervals in addition to the \n",
    "    end point. Hence additional information is generated and used through \n",
    "    additional function evaluations. \n",
    "    \n",
    "    This is different to the function/implementation available with SciPy  \n",
    "    where discrete data only is passed to the function. \n",
    "    \n",
    "    Bear this in mind when comparing results - there will be a factor of two\n",
    "    in the definition of \"n\" we need to be careful about!\n",
    "    \n",
    "    Also note that this version of the function performs redundant function \n",
    "    evaluations - see the **composite** implementation below.\n",
    "    \"\"\"\n",
    "\n",
    "    interval_size = (b - a)/number_intervals\n",
    "\n",
    "    assert interval_size > 0\n",
    "    assert type(number_intervals) == int\n",
    "\n",
    "    I_S = 0.0\n",
    "\n",
    "    # Loop to valuate Simpson's formula over each interval \n",
    "    for i in range(number_intervals):\n",
    "        # Find a, c, and b\n",
    "        this_bin_start = a + interval_size * (i)\n",
    "        this_bin_mid = this_bin_start + interval_size/2\n",
    "        this_bin_end = this_bin_start + interval_size\n",
    "        # Calculate the rule and add to running total.\n",
    "        I_S += (interval_size/6) * (function(this_bin_start) +\n",
    "                                  4 * function(this_bin_mid) + function(this_bin_end))\n",
    "\n",
    "    # Return our running total result\n",
    "    return I_S\n",
    "\n",
    "def simpsons_composite_rule(a, b, function, number_intervals=10):\n",
    "    \"\"\"Function to evaluate the composite Simpson's rule only using\n",
    "    function evaluations at (number_intervals + 1) points.\n",
    "    \n",
    "    This implementation requires that the number of subintervals (number_intervals) be even\n",
    "    \"\"\"\n",
    "    assert number_intervals % 2 == 0, \"number_intervals is not even\"\n",
    "\n",
    "    interval_size = (b - a) / number_intervals\n",
    "    # start with the two end member values\n",
    "    I_cS2 = function(a) + function(b)\n",
    "\n",
    "    # add in those terms with a coefficient of 4\n",
    "    for i in range(1, number_intervals, 2):\n",
    "        I_cS2 += 4 * function(a + i * interval_size)\n",
    "\n",
    "    # and those terms with a coefficient of 2\n",
    "    for i in range(2, number_intervals-1, 2):\n",
    "        I_cS2 += 2 * function(a + i * interval_size)\n",
    "\n",
    "    return I_cS2 * (interval_size / 3.0)\n",
    "\n",
    "def weddles_rule(a, b, function, number_intervals=10):\n",
    "    \"\"\" Function to evaluate Weddle's quadrature rule using\n",
    "    appropriate calls to the composite_simpson function\n",
    "    \"\"\"\n",
    "    S = simpsons_composite_rule(a, b, function, number_intervals)\n",
    "    S2 = simpsons_composite_rule(a, b, function, number_intervals*2)\n",
    "\n",
    "    return S2 + (S2 - S)/15."
   ]
  },
  {
   "cell_type": "code",
   "execution_count": 51,
   "metadata": {},
   "outputs": [
    {
     "data": {
      "text/plain": [
       "<matplotlib.legend.Legend at 0x11b398a5c18>"
      ]
     },
     "execution_count": 51,
     "metadata": {},
     "output_type": "execute_result"
    },
    {
     "data": {
      "image/png": "[encoded data removed]",
      "text/plain": [
       "<Figure size 504x504 with 1 Axes>"
      ]
     },
     "metadata": {
      "needs_background": "light"
     },
     "output_type": "display_data"
    }
   ],
   "source": [
    "interval_sizes_M = [2**i for i in range(10)]\n",
    "interval_sizes_T = [2**i for i in range(10)]\n",
    "interval_sizes_S = [2**i for i in range(10)]\n",
    "interval_sizes_W = [2**i for i in range(10)]\n",
    "# due to need for even number of intervals lose the first\n",
    "interval_sizes_W = interval_sizes_W[1:]\n",
    "\n",
    "errors_M = np.zeros_like(interval_sizes_M, dtype='float64')\n",
    "errors_T = np.zeros_like(interval_sizes_T, dtype='float64')\n",
    "errors_S = np.zeros_like(interval_sizes_S, dtype='float64')\n",
    "errors_W = np.zeros_like(interval_sizes_W, dtype='float64')\n",
    "\n",
    "areas_M = np.zeros_like(interval_sizes_M, dtype='float64')\n",
    "areas_T = np.zeros_like(interval_sizes_T, dtype='float64')\n",
    "areas_S = np.zeros_like(interval_sizes_S, dtype='float64')\n",
    "areas_W = np.zeros_like(interval_sizes_W, dtype='float64')\n",
    "\n",
    "for (i, number_intervals) in enumerate(interval_sizes_M):\n",
    "    areas_M[i] = midpoint_rule(xl, xr, f, number_intervals)\n",
    "    errors_M[i] = abs(areas_M[i] - true_int)\n",
    "\n",
    "for (i, number_intervals) in enumerate(interval_sizes_T):\n",
    "    areas_T[i] = midpoint_rule(xl, xr, f, number_intervals)\n",
    "    errors_T[i] = abs(areas_T[i] - true_int)    \n",
    "    \n",
    "for (i, number_intervals) in enumerate(interval_sizes_S):\n",
    "    areas_S[i] = simpsons_rule(xl, xr, f, number_intervals)\n",
    "    errors_S[i] = abs(areas_S[i] - true_int)\n",
    "\n",
    "for (i, number_intervals) in enumerate(interval_sizes_W):\n",
    "    areas_W[i] = weddles_rule(xl, xr, f, number_intervals)\n",
    "    errors_W[i] = abs(areas_W[i] - true_int)   \n",
    "    \n",
    "\n",
    "# plot\n",
    "fig = plt.figure(figsize=(7, 7))\n",
    "ax1 = plt.subplot(111)\n",
    "ax1.loglog(interval_sizes_S, errors_S, 'ro-', lw=2, label='Simpson')\n",
    "ax1.loglog(interval_sizes_T, errors_T, 'bo-', lw=2, label='Trapezoidal')\n",
    "ax1.loglog(interval_sizes_M, errors_M, 'ko-', lw=2, label='Midpoint')\n",
    "ax1.loglog(interval_sizes_W, errors_W, 'go-', lw=2, label='Weddles')\n",
    "ax1.set_xlabel('log(number_intervals)', fontsize=16)\n",
    "ax1.set_ylabel('log(error)', fontsize=16)\n",
    "ax1.set_title('Quadrature rule convergence', fontsize=16)\n",
    "ax1.legend(loc='best', fontsize=14)\n"
   ]
  },
  {
   "cell_type": "code",
   "execution_count": null,
   "metadata": {},
   "outputs": [],
   "source": []
  },
  {
   "cell_type": "markdown",
   "metadata": {},
   "source": [
    "### Question 4 - root-finding [20 marks]\n",
    "\n",
    "<br>\n",
    "\n",
    "Consider the function\n",
    "\n",
    "$$f(x) = \\dfrac{1}{(x − 0.2)^2 + 0.1} - \\dfrac{1}{(x − 0.6)^2 + 0.05}$$\n",
    "\n",
    "<br>\n",
    "\n",
    "**4.1 [7 marks]**\n",
    "\n",
    "Plot this function over the interval $[-2,2]$.\n",
    "\n",
    "How many roots does $f$ appear to have within this interval?\n",
    "\n",
    "Apply root bracketing to find the location of the root to within a sub-interval size of 0.1.\n",
    "\n",
    "Use the Scipy implementation of Newton's method (without providing derivative information) to estimate the root.\n",
    "\n",
    "<br>\n",
    "\n",
    "**4.2 [7 marks]**\n",
    "\n",
    "Apply your own bisection, quasi-Newton and secant methods to this problem to estimate the root.\n",
    "\n",
    "<br>\n",
    "\n",
    "**4.3 [6 marks]**\n",
    "\n",
    "Given a function of the general form\n",
    "\n",
    "$$g(x) = \\dfrac{1}{(x − a)^2 + b}$$\n",
    "\n",
    "for constants $a$ and $b$, we can use the chain rule to show that its derivative is given by\n",
    "\n",
    "$$\\dfrac{dg}{dx}(x) = \\dfrac{-2(x-a)}{((x − a)^2 + b)^2}$$\n",
    "\n",
    "Using the information, write a function to exactly calculate $\\dfrac{df}{dx}$ for our $f$ function and find the root using Newton's method making use of this exact derivative information.\n",
    "\n",
    "<br>\n",
    "\n",
    "Explain how Newton's method can fail to converge and demonstrate this using our $f$ function."
   ]
  },
  {
   "cell_type": "markdown",
   "metadata": {},
   "source": [
    "## Solution"
   ]
  },
  {
   "cell_type": "code",
   "execution_count": 81,
   "metadata": {},
   "outputs": [
    {
     "name": "stdout",
     "output_type": "stream",
     "text": [
      "0.33749999999998953\n"
     ]
    },
    {
     "data": {
      "text/plain": [
       "[<matplotlib.lines.Line2D at 0x11b3af13f98>]"
      ]
     },
     "execution_count": 81,
     "metadata": {},
     "output_type": "execute_result"
    },
    {
     "data": {
      "image/png": "[encoded data removed]",
      "text/plain": [
       "<Figure size 360x360 with 1 Axes>"
      ]
     },
     "metadata": {
      "needs_background": "light"
     },
     "output_type": "display_data"
    }
   ],
   "source": [
    "def f(x):\n",
    "    return 1./((x-0.2)**2+0.1) - 1./((x-0.6)**2+0.05)\n",
    "\n",
    "\n",
    "# plot\n",
    "xx = np.linspace(-2,2,1000)\n",
    "fig = plt.figure(figsize=(5, 5))\n",
    "ax1 = plt.subplot(111)\n",
    "ax1.plot(xx,f(xx))\n",
    "ax1.set_xlabel('x', fontsize=16)\n",
    "ax1.set_ylabel('f(x)', fontsize=16)\n",
    "ax1.plot(xx,np.zeros_like(xx),'k--')\n",
    "\n",
    "x0 = 0.3\n",
    "xr = sop.newton(f, x0)\n",
    "print(xr)\n",
    "ax1.plot(xr,0,'r*')"
   ]
  },
  {
   "cell_type": "code",
   "execution_count": 74,
   "metadata": {},
   "outputs": [
    {
     "name": "stdout",
     "output_type": "stream",
     "text": [
      "Bracket =  (0.3000000000000007, 0.4000000000000007)\n"
     ]
    }
   ],
   "source": [
    "def root_bracketing(f, a, b, dx):\n",
    "    \"\"\" Function to perform root bracketing on the function f(.)\n",
    "    between a and b, with fixed interval size dx.\n",
    "    Returns the bracket of size dx that contains the root.\n",
    "    \"\"\" \n",
    "    # The sign function returns:  -1 if x < 0;  0 if x==0;  1 if x > 0.\n",
    "    sign = np.sign(f(a))\n",
    "    while sign == np.sign(f(a)):\n",
    "        a += dx\n",
    "        if a >= b:\n",
    "            raise RuntimeError('no root within [a,b]')\n",
    "    return (a-dx, a)\n",
    "\n",
    "\n",
    "a = -2.\n",
    "b = 2.\n",
    "dx = 0.1\n",
    "# print out the output from our root_bracketing function\n",
    "print('Bracket = ', root_bracketing(f, a, b, dx))\n"
   ]
  },
  {
   "cell_type": "code",
   "execution_count": 75,
   "metadata": {},
   "outputs": [
    {
     "data": {
      "image/png": "[encoded data removed]",
      "text/plain": [
       "<Figure size 576x360 with 1 Axes>"
      ]
     },
     "metadata": {
      "needs_background": "light"
     },
     "output_type": "display_data"
    }
   ],
   "source": [
    "def plot_root_bracketing(f, a, b, dx, ax, xbounds=(-0.1, 1.4), ybounds=(-5, 6), flabel=''):\n",
    "    x = np.linspace(a, b, int((b-a)/dx)+1)\n",
    "    y = f(x)\n",
    "    # plot the sub-intervals in blue\n",
    "    ax.plot(x, y, 'bo-')\n",
    "    for i in range(1, len(x)):\n",
    "        if np.sign(y[i]) != np.sign(y[i-1]):\n",
    "            # plot the sub-interval where the sign changes in red\n",
    "            ax.plot([x[i], x[i-1]], [y[i], y[i-1]], 'ro-')\n",
    "    ax.set_xlabel('$x$', fontsize=16)\n",
    "    if not flabel:\n",
    "        fl = '$f(x)$'\n",
    "    else:\n",
    "        fl = flabel\n",
    "    ax.set_ylabel(fl, fontsize=16)\n",
    "    xlim = ax.get_xlim()\n",
    "    ax.plot([xlim[0], xlim[1]], [0., 0.], 'k--')\n",
    "    ax.set_xlim(xlim)\n",
    "    ax.set_title('Root bracketing\\n' + '(red indicates the bracket containing the root)', fontsize=20)\n",
    "\n",
    " # let's also use our plotting function from above.\n",
    "fig, ax1 = plt.subplots(figsize=(8,5))\n",
    "plot_root_bracketing(f, a, b, 0.1, ax1, flabel=r'$f(x) = 2x + xsin(x-3) - 5$')   "
   ]
  },
  {
   "cell_type": "code",
   "execution_count": 65,
   "metadata": {},
   "outputs": [
    {
     "name": "stdout",
     "output_type": "stream",
     "text": [
      "0.33750057220458984\n"
     ]
    }
   ],
   "source": [
    "def bisection(fct, a, b, atol=1.0E-6, nmax=100):\n",
    "    n = 0\n",
    "    while n <= nmax:\n",
    "        c = (a+b)/2.\n",
    "        if fct(c) == 0. or (b-a)/2. < atol:\n",
    "            return c\n",
    "        n += 1\n",
    "        if np.sign(fct(c)) == np.sign(fct(a)):\n",
    "            a = c\n",
    "        else:\n",
    "            b = c\n",
    "    raise RuntimeError('no root found within [a,b]')\n",
    "\n",
    "a, b = -1., 1.\n",
    "print(bisection(f, a, b))"
   ]
  },
  {
   "cell_type": "code",
   "execution_count": 71,
   "metadata": {},
   "outputs": [
    {
     "name": "stdout",
     "output_type": "stream",
     "text": [
      "0.33750000000001756\n"
     ]
    }
   ],
   "source": [
    "def quasi_newton(f, x0, dx=1.0E-7, atol=1.0E-6):\n",
    "    \"\"\" Function to implement quasi-newton\n",
    "    \n",
    "    f is the function we are trying to find a root of\n",
    "    \"\"\"\n",
    "    x = [x0]\n",
    "    while True:\n",
    "        dfdx = (f(x[-1] + dx) - f(x[-1]))/(dx)\n",
    "        x.append(x[-1] - f(x[-1])/dfdx)\n",
    "        if abs(x[-1]-x[-2]) < atol:\n",
    "            return x[-1]\n",
    "\n",
    "x0 = 0.2\n",
    "print(quasi_newton(f, x0))"
   ]
  },
  {
   "cell_type": "code",
   "execution_count": 73,
   "metadata": {},
   "outputs": [
    {
     "name": "stdout",
     "output_type": "stream",
     "text": [
      "0.337500000207198\n"
     ]
    }
   ],
   "source": [
    "def secant(f, x0, x1, atol=1.0E-6):\n",
    "    \"\"\" Function to implement the secant method\n",
    "    \n",
    "    x0 and x1 are the two required guesses\n",
    "    \n",
    "    f is the function we are trying to find a root of\n",
    "    \"\"\"\n",
    "    x = [x0, x1]\n",
    "    while True:\n",
    "        dfdx = (f(x[-1])-f(x[-2])) / (x[-1]-x[-2])\n",
    "        x.append(x[-1] - f(x[-1])/dfdx)\n",
    "        if abs(x[-1]-x[-2]) < atol:\n",
    "            return x[-1]\n",
    "        \n",
    "        \n",
    "x0 = 0.5\n",
    "x1 = x0 + 0.1\n",
    "print(secant(f, x0, x1))"
   ]
  },
  {
   "cell_type": "code",
   "execution_count": 96,
   "metadata": {},
   "outputs": [
    {
     "name": "stdout",
     "output_type": "stream",
     "text": [
      "0.3375000000000835\n",
      "0.33749999999999997\n"
     ]
    }
   ],
   "source": [
    "def f(x):\n",
    "    return 1./((x-0.2)**2+0.1) - 1./((x-0.6)**2+0.05)\n",
    "\n",
    "def dfdx(x):\n",
    "    return (-2*(x-0.2) / ((x-0.2)**2+0.1)**2) + (2*(x-0.6) / ((x-0.6)**2+0.05)**2)\n",
    "\n",
    "x0 = 0.35\n",
    "print(sop.newton(f, x0))\n",
    "print(sop.newton(f, x0, dfdx))"
   ]
  },
  {
   "cell_type": "code",
   "execution_count": 99,
   "metadata": {},
   "outputs": [
    {
     "name": "stdout",
     "output_type": "stream",
     "text": [
      "Newton (analytical derivative) used 6 function evaluations\n",
      "0.33750000000007924\n"
     ]
    }
   ],
   "source": [
    "def f(x):\n",
    "    return 1./((x-0.2)**2+0.1) - 1./((x-0.6)**2+0.05)\n",
    "\n",
    "def dfdx(x):\n",
    "    return (-2*(x-0.2) / ((x-0.2)**2+0.1)**2) + (2*(x-0.6) / ((x-0.6)**2+0.05)**2)\n",
    "\n",
    "def newton(f, x0, dfdx, atol=1.0e-6):\n",
    "    \"\"\" Function to implement the Newton-Raphson method\n",
    "    \n",
    "    f is the function we are trying to find a root of\n",
    "    \n",
    "    and dfdx is another function which return the derivative of f\n",
    "    \"\"\"\n",
    "    x = [x0]\n",
    "    fevals = 0\n",
    "    while True:\n",
    "        x.append(x[-1] - f(x[-1])/dfdx(x[-1]))  # two function evaluations (f and dfdx)\n",
    "        fevals += 2\n",
    "        if abs(x[-1]-x[-2]) < atol:\n",
    "            print('Newton (analytical derivative) used', fevals, 'function evaluations')\n",
    "            return x[-1]\n",
    "        \n",
    "x0 = 0.35\n",
    "print(newton(f, x0, dfdx))"
   ]
  },
  {
   "cell_type": "code",
   "execution_count": 102,
   "metadata": {},
   "outputs": [
    {
     "ename": "RuntimeError",
     "evalue": "Failed to converge after 50 iterations, value is -1868767.5724413288",
     "output_type": "error",
     "traceback": [
      "\u001b[1;31m---------------------------------------------------------------------------\u001b[0m",
      "\u001b[1;31mRuntimeError\u001b[0m                              Traceback (most recent call last)",
      "\u001b[1;32m<ipython-input-102-ea7c4f11687d>\u001b[0m in \u001b[0;36m<module>\u001b[1;34m\u001b[0m\n\u001b[0;32m      9\u001b[0m \u001b[1;33m\u001b[0m\u001b[0m\n\u001b[0;32m     10\u001b[0m \u001b[0mx0\u001b[0m \u001b[1;33m=\u001b[0m \u001b[1;36m0.1\u001b[0m\u001b[1;33m\u001b[0m\u001b[1;33m\u001b[0m\u001b[0m\n\u001b[1;32m---> 11\u001b[1;33m \u001b[0mprint\u001b[0m\u001b[1;33m(\u001b[0m\u001b[0msop\u001b[0m\u001b[1;33m.\u001b[0m\u001b[0mnewton\u001b[0m\u001b[1;33m(\u001b[0m\u001b[0mf\u001b[0m\u001b[1;33m,\u001b[0m \u001b[0mx0\u001b[0m\u001b[1;33m,\u001b[0m \u001b[0mdfdx\u001b[0m\u001b[1;33m)\u001b[0m\u001b[1;33m)\u001b[0m\u001b[1;33m\u001b[0m\u001b[1;33m\u001b[0m\u001b[0m\n\u001b[0m",
      "\u001b[1;32m~\\Anaconda3\\lib\\site-packages\\scipy\\optimize\\zeros.py\u001b[0m in \u001b[0;36mnewton\u001b[1;34m(func, x0, fprime, args, tol, maxiter, fprime2, x1, rtol, full_output, disp)\u001b[0m\n\u001b[0;32m    341\u001b[0m     \u001b[1;32mif\u001b[0m \u001b[0mdisp\u001b[0m\u001b[1;33m:\u001b[0m\u001b[1;33m\u001b[0m\u001b[1;33m\u001b[0m\u001b[0m\n\u001b[0;32m    342\u001b[0m         \u001b[0mmsg\u001b[0m \u001b[1;33m=\u001b[0m \u001b[1;34m\"Failed to converge after %d iterations, value is %s\"\u001b[0m \u001b[1;33m%\u001b[0m \u001b[1;33m(\u001b[0m\u001b[0mitr\u001b[0m \u001b[1;33m+\u001b[0m \u001b[1;36m1\u001b[0m\u001b[1;33m,\u001b[0m \u001b[0mp\u001b[0m\u001b[1;33m)\u001b[0m\u001b[1;33m\u001b[0m\u001b[1;33m\u001b[0m\u001b[0m\n\u001b[1;32m--> 343\u001b[1;33m         \u001b[1;32mraise\u001b[0m \u001b[0mRuntimeError\u001b[0m\u001b[1;33m(\u001b[0m\u001b[0mmsg\u001b[0m\u001b[1;33m)\u001b[0m\u001b[1;33m\u001b[0m\u001b[1;33m\u001b[0m\u001b[0m\n\u001b[0m\u001b[0;32m    344\u001b[0m \u001b[1;33m\u001b[0m\u001b[0m\n\u001b[0;32m    345\u001b[0m     \u001b[1;32mreturn\u001b[0m \u001b[0m_results_select\u001b[0m\u001b[1;33m(\u001b[0m\u001b[0mfull_output\u001b[0m\u001b[1;33m,\u001b[0m \u001b[1;33m(\u001b[0m\u001b[0mp\u001b[0m\u001b[1;33m,\u001b[0m \u001b[0mfuncalls\u001b[0m\u001b[1;33m,\u001b[0m \u001b[0mitr\u001b[0m \u001b[1;33m+\u001b[0m \u001b[1;36m1\u001b[0m\u001b[1;33m,\u001b[0m \u001b[0m_ECONVERR\u001b[0m\u001b[1;33m)\u001b[0m\u001b[1;33m)\u001b[0m\u001b[1;33m\u001b[0m\u001b[1;33m\u001b[0m\u001b[0m\n",
      "\u001b[1;31mRuntimeError\u001b[0m: Failed to converge after 50 iterations, value is -1868767.5724413288"
     ]
    },
    {
     "data": {
      "image/png": "[encoded data removed]",
      "text/plain": [
       "<Figure size 360x360 with 1 Axes>"
      ]
     },
     "metadata": {
      "needs_background": "light"
     },
     "output_type": "display_data"
    }
   ],
   "source": [
    "# plot\n",
    "xx = np.linspace(-0.1,0.5,1000)\n",
    "fig = plt.figure(figsize=(5, 5))\n",
    "ax1 = plt.subplot(111)\n",
    "ax1.plot(xx,f(xx))\n",
    "ax1.set_xlabel('x', fontsize=16)\n",
    "ax1.set_ylabel('f(x)', fontsize=16)\n",
    "ax1.plot(xx,np.zeros_like(xx),'k--')\n",
    "\n",
    "# looking at plot we see a flat location, i.e. small gradient (which we divide by)\n",
    "# at around x=0.1\n",
    "\n",
    "x0 = 0.1\n",
    "print(sop.newton(f, x0, dfdx))"
   ]
  },
  {
   "cell_type": "code",
   "execution_count": null,
   "metadata": {},
   "outputs": [],
   "source": []
  },
  {
   "cell_type": "markdown",
   "metadata": {},
   "source": [
    "### Question 5 - numerical linear algebra [20 marks]\n",
    "\n",
    "<br>\n",
    "\n",
    "Consider the following set of linear equations\n",
    "\n",
    "\\begin{align*}\n",
    "  x + 2y + -2z &= 7 \\\\\n",
    "  -x +  8z &= 7 \\\\\n",
    "  2x + 6y + 3z &= 30\n",
    "\\end{align*}\n",
    "\n",
    "<br>\n",
    "\n",
    "**5.1 [8 marks]**\n",
    "\n",
    "Write this system in matrix form, form the corresponding augmented system and perform row operations until you transform the system to upper-triangular form, find the solution using back substitution (**do this all with pen and paper**).\n",
    "\n",
    "Check your answer using any method available to you to solve this problem in SciPy of NumPy.\n",
    "\n",
    "<br>\n",
    "\n",
    "**5.2 [4 marks]**\n",
    "\n",
    "By considering the final upper-triangular form of the augmented system, give examples of updated $A$ matrix and/or $\\pmb{b}$ vector that result in two separate scenarios: (i) our system now has infinitely many exact solutions and (ii) our system has no solutions.\n",
    "\n",
    "<br>\n",
    "\n",
    "**5.3 [8 marks]**\n",
    "\n",
    "If instead of placing a RHS vector $\\pmb{b}$ vector on the right of the augmented system, we place the identity matrix, i.e. we form $[A|I]$, then performing row operations to transform $A$ into the identity matrix results in the original $I$ matrix transforming into the inverse of $A$, e.g. we are left with the augmented system $[I|A^{-1}]$.\n",
    "\n",
    "Write some code that given a matrix $A$ uses this approach to return a matrix $A^{-1}$. Test your code on the original $A$ matrix. \n",
    "\n",
    "[NB. Your implementation doesn't need to actually form the augmented matrix, you just need to make sure that you consistently apply row operations to the matrices that start out as $A$ and $I$].\n",
    "\n"
   ]
  },
  {
   "cell_type": "markdown",
   "metadata": {},
   "source": [
    "### Answer 5"
   ]
  },
  {
   "cell_type": "markdown",
   "metadata": {},
   "source": [
    "### Gaussian elimination steps\n",
    "\n",
    "\n",
    "$$\n",
    "\\left[\n",
    "  \\begin{array}{rrr|r}\n",
    "    1 & 2 & -2 & 7 \\\\\n",
    "    -1 & 0 & 8 & 7 \\\\\n",
    "    2 & 6 & 3 & 30\\\\    \n",
    "  \\end{array}\n",
    "\\right]\n",
    "$$\n",
    "\n",
    "Eliminate first column below pivot:\n",
    "\n",
    "$$\n",
    "\\left[\n",
    "  \\begin{array}{rrr|r}\n",
    "    1 & 2 & -2 & 7 \\\\\n",
    "    0 & 2 & 6 & 14 \\\\\n",
    "    0 & 2 & 7 & 16\\\\    \n",
    "  \\end{array}\n",
    "\\right]\n",
    "$$\n",
    "\n",
    "and second \n",
    "\n",
    "$$\n",
    "\\left[\n",
    "  \\begin{array}{rrr|r}\n",
    "    1 & 2 & -2 & 7 \\\\\n",
    "    0 & 2 & 6 & 14 \\\\\n",
    "    0 & 0 & 1 & 2\\\\    \n",
    "  \\end{array}\n",
    "\\right]\n",
    "$$\n",
    "\n",
    "So $z=2$, $y = 7-3z=7-6=1$,  $x = 7 - 2y + 2z = 7 -2 +4 = 9$"
   ]
  },
  {
   "cell_type": "code",
   "execution_count": 103,
   "metadata": {},
   "outputs": [],
   "source": [
    "def back_substitution(A, b):\n",
    "    \"\"\" Function to perform back subsitution on the system Ax=b.\n",
    "    \n",
    "    Returns the solution x.\n",
    "    \n",
    "    Assumes that A is on upper triangular form.\n",
    "    \"\"\"\n",
    "    n = np.size(b)\n",
    "    # Check A is square and its number of rows and columns same as size of the vector b\n",
    "    rows, cols = np.shape(A)\n",
    "    assert(rows == cols)\n",
    "    assert(rows == n)\n",
    "    # We can/should check that A is upper triangular using np.triu which is the \n",
    "    # upper triangular part of a matrix - if A is already upper triangular, then\n",
    "    # it should of course match the upper-triangular component of A!!\n",
    "    assert(np.allclose(A, np.triu(A)))\n",
    "    \n",
    "    x = np.zeros(n)\n",
    "    # start at the end (row n-1) and work backwards\n",
    "    for k in range(n-1, -1, -1):\n",
    "        # note that we could do this update in a single vectorised line \n",
    "        # using np.dot or @ - this could also speed things up\n",
    "        s = 0.\n",
    "        for j in range(k+1, n):\n",
    "            s = s + A[k, j]*x[j]\n",
    "        x[k] = (b[k] - s)/A[k, k]\n",
    "\n",
    "    return x\n",
    "\n",
    "\n",
    "def backward_substitution(A, b):\n",
    "    n = np.size(b)    \n",
    "    x = np.zeros(n)\n",
    "    for k in range(n-1, -1, -1):\n",
    "        s = 0.\n",
    "        for j in range(k+1, n):\n",
    "            s = s + A[k, j]*x[j]\n",
    "        x[k] = (b[k] - s)/A[k, k]    \n",
    "    return x"
   ]
  },
  {
   "cell_type": "code",
   "execution_count": 105,
   "metadata": {},
   "outputs": [
    {
     "name": "stdout",
     "output_type": "stream",
     "text": [
      "L= [[ 1.  0.  0.]\n",
      " [-1.  1.  0.]\n",
      " [ 2.  1.  1.]]\n",
      "U= [[ 1.  2. -2.]\n",
      " [ 0.  2.  6.]\n",
      " [ 0.  0.  1.]]\n",
      "x= [9. 1. 2.]\n",
      "L= [[ 1.  0.  0.]\n",
      " [-1.  1.  0.]\n",
      " [ 2.  1.  1.]]\n",
      "U= [[ 1.  2. -2.]\n",
      " [ 0.  2.  6.]\n",
      " [ 0.  0.  1.]]\n",
      "True\n"
     ]
    }
   ],
   "source": [
    "# This version of the solution does not use partial pivoting \n",
    "# and hence doesn't need to deal with a P matrix\n",
    "\n",
    "def LU_decomposition(A):\n",
    "    # construct upper triangular matrix contains Gaussian elimination result\n",
    "    # we won't change A in-place but create a local copy\n",
    "    # if we don't do this then A will be over-written by the U we\n",
    "    # compute and return\n",
    "    A = A.copy()\n",
    "    m, n = A.shape\n",
    "    assert(m == n)\n",
    "    # For simplicity we set up a matrix to store L, but note the comment above\n",
    "    # that if we had memory concerns we would reuse zeroed entries in A.\n",
    "    # We don't initialise this to the identity now, as this won't be correct\n",
    "    # when we use partial pivoting a little later.\n",
    "    L = np.zeros((n,n))\n",
    "    # Loop over each pivot row - don't need to consider the final row as a pivot\n",
    "    for k in range(n-1):\n",
    "        # Loop over each equation below the pivot row - now we do need to consider the last row\n",
    "        for i in range(k+1, n):\n",
    "            # Define the scaling factor outside the innermost\n",
    "            # loop otherwise its value gets changed.\n",
    "            s = (A[i, k] / A[k, k])\n",
    "            for j in range(k, n):\n",
    "                A[i, j] = A[i, j] - s*A[k, j]\n",
    "            # store the scaling factors which make up the lower tri matrix\n",
    "            L[i, k] = s\n",
    "    # remember to add in the ones on the main diagonal to L\n",
    "    L += np.eye(m)\n",
    "    # A now is the upper triangular matrix U \n",
    "    return L, A\n",
    "\n",
    "# This function assumes that A is already an upper triangular matrix.\n",
    "def backward_substitution(A, b):\n",
    "    n = np.size(b)    \n",
    "    x = np.zeros(n)\n",
    "    for k in range(n-1, -1, -1):\n",
    "        s = 0.\n",
    "        for j in range(k+1, n):\n",
    "            s = s + A[k, j]*x[j]\n",
    "        x[k] = (b[k] - s)/A[k, k]    \n",
    "    return x\n",
    "\n",
    "# This function assumes that A is already a lower triangular matrix.\n",
    "def forward_substitution(A, b):\n",
    "    n = np.size(b)    \n",
    "    x = np.zeros(n)\n",
    "    for k in range(n):\n",
    "        s = 0.\n",
    "        for j in range(k):\n",
    "            s = s + A[k, j]*x[j]\n",
    "        x[k] = (b[k] - s)/A[k, k]\n",
    "    \n",
    "    return x\n",
    "\n",
    "def LU_solve(A, b):\n",
    "    \"\"\" An LU solve function that makes use of our\n",
    "    non partial pivoting versions of LU_decomposition\n",
    "    followed by forward_substitution and\n",
    "    backward_substitution\n",
    "    \"\"\" \n",
    "    L, U = LU_decomposition(A)\n",
    "    print('L=',L)\n",
    "    print('U=',U)\n",
    "    y = forward_substitution(L, b)\n",
    "    x = backward_substitution(U, y)\n",
    "    return x\n",
    "\n",
    "\n",
    "A = np.array([[1., 2., -2.], \n",
    "              [-1., 0., 8.],\n",
    "              [2., 6., 3.]])\n",
    "b = np.array([7., 7., 30.])\n",
    "\n",
    "x = LU_solve(A, b)\n",
    "print('x=',x)\n",
    "# Always check that our implementation produces the right result\n",
    "print(np.allclose(np.linalg.solve(A, b), LU_solve(A, b)))"
   ]
  },
  {
   "cell_type": "markdown",
   "metadata": {},
   "source": [
    "Note that U here is the same as we derived by hand"
   ]
  },
  {
   "cell_type": "markdown",
   "metadata": {},
   "source": [
    "If our final augmented system in lower triangular form instead read as \n",
    "$$\n",
    "\\left[\n",
    "  \\begin{array}{rrr|r}\n",
    "    1 & 2 & -2 & 7 \\\\\n",
    "    0 & 2 & 6 & 14 \\\\\n",
    "    0 & 0 & 0 & 2\\\\    \n",
    "  \\end{array}\n",
    "\\right]\n",
    "$$\n",
    "\n",
    "then the system has no solutions. This final form results from simply changing the original system to\n",
    "\n",
    "$$\n",
    "\\left[\n",
    "  \\begin{array}{rrr|r}\n",
    "    1 & 2 & -2 & 7 \\\\\n",
    "    -1 & 0 & 8 & 7 \\\\\n",
    "    2 & 6 & 2 & 30\\\\    \n",
    "  \\end{array}\n",
    "\\right]\n",
    "$$\n",
    "\n",
    "\n",
    "We get infinite solutions if we instead have a final row in our augmented system that reads $0=0$, i.e.\n",
    "\n",
    "$$\n",
    "\\left[\n",
    "  \\begin{array}{rrr|r}\n",
    "    1 & 2 & -2 & -20 \\\\\n",
    "    0 & 2 & 6 & 14 \\\\\n",
    "    0 & 0 & 0 & 0\\\\    \n",
    "  \\end{array}\n",
    "\\right]\n",
    "$$\n",
    "\n",
    "This final form results from simply changing the original system to\n",
    "\n",
    "$$\n",
    "\\left[\n",
    "  \\begin{array}{rrr|r}\n",
    "    1 & 2 & -2 & 7 \\\\\n",
    "    -1 & 0 & 8 & 7 \\\\\n",
    "    2 & 6 & 2 & 28\\\\    \n",
    "  \\end{array}\n",
    "\\right]\n",
    "$$\n"
   ]
  },
  {
   "cell_type": "code",
   "execution_count": 109,
   "metadata": {},
   "outputs": [
    {
     "name": "stdout",
     "output_type": "stream",
     "text": [
      "0.0\n",
      "[ 2.40191980e+16 -9.00719925e+15  3.00239975e+15]\n",
      "L= [[ 1.  0.  0.]\n",
      " [-1.  1.  0.]\n",
      " [ 2.  1.  1.]]\n",
      "U= [[ 1.  2. -2.]\n",
      " [ 0.  2.  6.]\n",
      " [ 0.  0.  0.]]\n",
      "[ inf -inf  inf]\n"
     ]
    },
    {
     "name": "stderr",
     "output_type": "stream",
     "text": [
      "C:\\Users\\Matt\\Anaconda3\\lib\\site-packages\\ipykernel_launcher.py:41: RuntimeWarning: divide by zero encountered in double_scalars\n"
     ]
    }
   ],
   "source": [
    "A = np.array([[1., 2., -2.], \n",
    "              [-1., 0., 8.],\n",
    "              [2., 6., 2.]])\n",
    "b = np.array([7., 7., 30.])\n",
    "\n",
    "print(sl.det(A))\n",
    "print(np.linalg.solve(A, b))\n",
    "print(LU_solve(A, b))\n"
   ]
  },
  {
   "cell_type": "code",
   "execution_count": 110,
   "metadata": {},
   "outputs": [
    {
     "name": "stdout",
     "output_type": "stream",
     "text": [
      "0.0\n",
      "[7.   1.75 1.75]\n",
      "L= [[ 1.  0.  0.]\n",
      " [-1.  1.  0.]\n",
      " [ 2.  1.  1.]]\n",
      "U= [[ 1.  2. -2.]\n",
      " [ 0.  2.  6.]\n",
      " [ 0.  0.  0.]]\n",
      "[nan nan nan]\n"
     ]
    },
    {
     "name": "stderr",
     "output_type": "stream",
     "text": [
      "C:\\Users\\Matt\\Anaconda3\\lib\\site-packages\\ipykernel_launcher.py:41: RuntimeWarning: invalid value encountered in double_scalars\n"
     ]
    }
   ],
   "source": [
    "A = np.array([[1., 2., -2.], \n",
    "              [-1., 0., 8.],\n",
    "              [2., 6., 2.]])\n",
    "b = np.array([7., 7., 28.])\n",
    "\n",
    "print(sl.det(A))\n",
    "print(np.linalg.solve(A, b))\n",
    "print(LU_solve(A, b))"
   ]
  },
  {
   "cell_type": "code",
   "execution_count": 114,
   "metadata": {},
   "outputs": [
    {
     "name": "stdout",
     "output_type": "stream",
     "text": [
      "Upper triangular transformed A = \n",
      "array([[ 1.,  2., -2.],\n",
      "       [ 0.,  2.,  6.],\n",
      "       [ 0.,  0.,  1.]])\n",
      "\n",
      "and following application of our lower triangular function = \n",
      "array([[1., 0., 0.],\n",
      "       [0., 2., 0.],\n",
      "       [0., 0., 1.]])\n",
      "\n",
      "Our final transformed A = \n",
      "array([[1., 0., 0.],\n",
      "       [0., 1., 0.],\n",
      "       [0., 0., 1.]])\n",
      "\n",
      "and the correspondingly transformed B = \n",
      "array([[-24. ,  -9. ,   8. ],\n",
      "       [  9.5,   3.5,  -3. ],\n",
      "       [ -3. ,  -1. ,   1. ]])\n",
      "\n",
      "SciPy computes the inverse as:\n",
      "array([[-24. ,  -9. ,   8. ],\n",
      "       [  9.5,   3.5,  -3. ],\n",
      "       [ -3. ,  -1. ,   1. ]])\n",
      "\n",
      "Success:  True\n"
     ]
    }
   ],
   "source": [
    "from pprint import pprint\n",
    "\n",
    "# This updated version of the upper_triangular function now\n",
    "# assumes that a matrix, B, is in the old vector location (what was b)\n",
    "# in the augmented system, and applies the same operations to\n",
    "# B as to A - only a minor difference\n",
    "\n",
    "def upper_triangle2(A, B):\n",
    "    m, n = np.shape(A)\n",
    "    assert(n == m)  # this is designed to work for a square matrix\n",
    "\n",
    "    # Loop over each pivot row.\n",
    "    for k in range(n-1):\n",
    "        # Loop over each equation below the pivot row.\n",
    "        for i in range(k+1, n):\n",
    "            # Define the scaling factor outside the innermost\n",
    "            # loop otherwise its value gets changed as you are\n",
    "            # over-writing A\n",
    "            s = (A[i, k]/A[k, k])\n",
    "            for j in range(n):\n",
    "                A[i, j] = A[i, j] - s*A[k, j]\n",
    "                # replace the old b update with the same update as A\n",
    "                B[i, j] = B[i, j] - s*B[k, j]\n",
    "\n",
    "\n",
    "# and this is a version which transforms the matrix into lower\n",
    "# triangular form - the point here is that if you give it a\n",
    "# matrix that is already in upper triangular form, then the\n",
    "# result will be a diagonal matrix\n",
    "def lower_triangle2(A, B):\n",
    "    m, n = np.shape(A)\n",
    "    assert(n == m)  # this is designed to work for a square matrix\n",
    "    # now it's basically just the upper triangular algorithm \n",
    "    # applied backwards\n",
    "    for k in range(n-1, -1, -1):\n",
    "        for i in range(k-1, -1, -1):\n",
    "            s = (A[i, k]/A[k, k])\n",
    "            for j in range(n):\n",
    "                A[i, j] = A[i, j] - s*A[k, j]\n",
    "                B[i, j] = B[i, j] - s*B[k, j]\n",
    "\n",
    "\n",
    "# Let's redefine A as our matrix above\n",
    "A = np.array([[1., 2., -2.], \n",
    "              [-1., 0., 8.],\n",
    "              [2., 6., 3.]])\n",
    "\n",
    "# and B is the identity of the corresponding size\n",
    "B = np.eye(np.shape(A)[0])\n",
    "\n",
    "# transform A into upper triangular form \n",
    "# (and perform the same operations on B)\n",
    "upper_triangle2(A, B)\n",
    "print('Upper triangular transformed A = ')\n",
    "pprint(A)\n",
    "\n",
    "# now make this updated A lower triangular as well \n",
    "# (the result should be diagonal)\n",
    "lower_triangle2(A, B)\n",
    "print('\\nand following application of our lower triangular function = ')\n",
    "pprint(A)\n",
    "\n",
    "# The final step to achieve the identity is just to divide each row through by the value \n",
    "# of the diagonal to end up with 1's on the main diagonal and 0 everywhere else.\n",
    "for i in range(np.shape(A)[0]):\n",
    "    B[i, :] = B[i, :]/A[i, i]\n",
    "    A[i, :] = A[i, :]/A[i, i]\n",
    "\n",
    "# the final A should be the identity\n",
    "print('\\nOur final transformed A = ')\n",
    "pprint(A)\n",
    "\n",
    "# the final B should therefore be the inverse of the original B\n",
    "print('\\nand the correspondingly transformed B = ')\n",
    "pprint(B)\n",
    "\n",
    "# let's compute the inverse using built-in functions and check\n",
    "# we get the same answer (we need to reinitialise A)\n",
    "A = np.array([[1., 2., -2.], \n",
    "              [-1., 0., 8.],\n",
    "              [2., 6., 3.]])\n",
    "\n",
    "b = np.array([7., 7., 30.])\n",
    "\n",
    "print('\\nSciPy computes the inverse as:')\n",
    "pprint(sl.inv(A))\n",
    "\n",
    "# B should now store the inverse of the original A - let's check\n",
    "print('\\nSuccess: ', np.allclose(B, sl.inv(A)))"
   ]
  },
  {
   "cell_type": "code",
   "execution_count": 118,
   "metadata": {},
   "outputs": [
    {
     "name": "stdout",
     "output_type": "stream",
     "text": [
      "\n",
      "SciPy computes the inverse as:\n",
      "array([[-24. ,  -9. ,   8. ],\n",
      "       [  9.5,   3.5,  -3. ],\n",
      "       [ -3. ,  -1. ,   1. ]])\n",
      "\n",
      "Success:  True\n",
      "[ 7.  7. 30.]\n"
     ]
    }
   ],
   "source": [
    "def our_inverse_code(A):\n",
    "    B = np.eye(np.shape(A)[0])\n",
    "    upper_triangle2(A, B)\n",
    "    lower_triangle2(A, B)\n",
    "    for i in range(np.shape(A)[0]):\n",
    "        B[i, :] = B[i, :]/A[i, i]\n",
    "        A[i, :] = A[i, :]/A[i, i]\n",
    "    return B\n",
    "\n",
    "A = np.array([[1., 2., -2.], \n",
    "              [-1., 0., 8.],\n",
    "              [2., 6., 3.]])\n",
    "\n",
    "b = np.array([7., 7., 30.])\n",
    "\n",
    "print('\\nSciPy computes the inverse as:')\n",
    "pprint(our_inverse_code(A))\n",
    "\n",
    "# B should now store the inverse of the original A - let's check\n",
    "print('\\nSuccess: ', np.allclose(our_inverse_code(A), sl.inv(A)))\n",
    "\n",
    "print(our_inverse_code(A)@b)"
   ]
  },
  {
   "cell_type": "code",
   "execution_count": null,
   "metadata": {},
   "outputs": [],
   "source": []
  }
 ],
 "metadata": {
  "celltoolbar": "Slideshow",
  "kernelspec": {
   "display_name": "Python 3",
   "language": "python",
   "name": "python3"
  },
  "language_info": {
   "codemirror_mode": {
    "name": "ipython",
    "version": 3
   },
   "file_extension": ".py",
   "mimetype": "text/x-python",
   "name": "python",
   "nbconvert_exporter": "python",
   "pygments_lexer": "ipython3",
   "version": "3.7.7"
  },
  "toc": {
   "base_numbering": 1,
   "nav_menu": {},
   "number_sections": false,
   "sideBar": false,
   "skip_h1_title": false,
   "title_cell": "Table of Contents",
   "title_sidebar": "Contents",
   "toc_cell": false,
   "toc_position": {
    "height": "calc(100% - 180px)",
    "left": "10px",
    "top": "150px",
    "width": "258.313px"
   },
   "toc_section_display": false,
   "toc_window_display": false
  }
 },
 "nbformat": 4,
 "nbformat_minor": 1
}
