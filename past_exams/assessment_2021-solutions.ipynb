{
 "cells": [
  {
   "cell_type": "markdown",
   "metadata": {},
   "source": [
    "# Numerical Methods\n",
    "\n",
    "# 2020/21 Class Assessment\n",
    "\n",
    "The following gives sketches of solutions - code is reused from lectures in many places."
   ]
  },
  {
   "cell_type": "markdown",
   "metadata": {},
   "source": [
    "## Friday 7th May 2021\n",
    "\n",
    "## 11:00 - 14:00 (UK time: BST= GMT+1)"
   ]
  },
  {
   "cell_type": "markdown",
   "metadata": {},
   "source": [
    "## Test instructions\n",
    "\n",
    "\n",
    "* This test contains FOUR questions with multiple parts, **all** of which should be answered.\n",
    "\n",
    "\n",
    "\n",
    "* Write your solution in *markdown* (text and equations) and *code* (Python) cells under each question.\n",
    "\n",
    "\n",
    "\n",
    "* [You may if you choose also submit parts of your answers via **scans of hand written pages** - feel free to use this option in particular for supplementary sketches or equations, you will not be marked down for not embedding equations into your markdown cells. But please make sure that the question number each sheet you scan refers to is very clear. Please use the Microsoft Office Lens solution you're using for exams.]\n",
    "\n",
    "\n",
    "\n",
    "* You should provide an explanation of your solution as comments in your code and in the surrounding markdown cells as appropriate to answer the question and explain your steps.\n",
    "\n",
    "\n",
    "\n",
    "* Unless explicitly told otherwise in the question you can reuse any code from the lectures and homeworks, you can also use any calls to standard libraries (e.g. NumPy, SciPy).\n",
    "\n",
    "\n",
    "\n",
    "* **Save your work regularly**\n",
    "\n",
    "\n",
    "* At the end of the test you should if necessary **Download your Jupyter notebook** (i.e. the file with a .ipynb extension), and **email your Jupyter notebook document**  and any **scans of hand written sheets** to [Matthew Piggott](http://www.imperial.ac.uk/people/m.d.piggott) at <mailto:m.d.piggott@imperial.ac.uk>.\n",
    "\n",
    "\n",
    "\n",
    "* If there are any issues during the assessment period **please document these**, e.g. via photos, and as soon as possible email <mailto:m.d.piggott@imperial.ac.uk> to report the problem.\n",
    "\n",
    "\n",
    "\n",
    "* If your email attachments together are larger than 10Mb please use <https://fileexchange.ic.ac.uk/>"
   ]
  },
  {
   "cell_type": "markdown",
   "metadata": {},
   "source": [
    "This time-limited remote assessment is being run as an open-book examination. We have worked hard to create exams that assesses synthesis of knowledge rather than factual recall. Thus, access to the internet, notes or other sources of factual information in the time provided will not be helpful and may well limit your time to successfully synthesise the answers required. Where individual questions rely more on factual recall and may therefore be less discriminatory in an open book context, we may compare the performance on these questions to similar style questions in previous years and we may scale or ignore the marks associated with such questions or parts of the questions. The use of the work of another student, past or present, constitutes plagiarism. Giving your work to another student to use may also constitute an offence. Collusion is a form of plagiarism and will be treated in a similar manner. This is an individual assessment and thus should be completed solely by you. The College will investigate all instances where an examination or assessment offence is reported or suspected, using plagiarism software, vivas and other tools, and apply appropriate penalties to students. In all examinations we will analyse exam performance against previous performance and against data from previous years and use an evidence-based approach to maintain a fair and robust examination. As with all exams, the best strategy is to read the question carefully and answer as fully as possible, taking account of the time and number of marks available."
   ]
  },
  {
   "cell_type": "code",
   "execution_count": 1,
   "metadata": {},
   "outputs": [],
   "source": [
    "# you may import any libraries we used in lectures, e.g.\n",
    "\n",
    "%matplotlib inline\n",
    "import matplotlib.pyplot as plt\n",
    "\n",
    "import numpy as np\n",
    "import scipy.interpolate as si\n",
    "import scipy.linalg as sl\n",
    "import scipy.optimize as sop"
   ]
  },
  {
   "cell_type": "markdown",
   "metadata": {},
   "source": [
    "### Question 1 - differentiation and ODEs [25 marks]\n",
    "\n",
    "<br>\n",
    "\n",
    "**1.1  [10 marks]**\n",
    "\n",
    "Consider the following function of a single independent variable $t$:\n",
    "\n",
    "$$f(t) = \\exp(t)$$\n",
    "\n",
    "The forward difference approximation at the location (or time) $t$ is given by\n",
    "\n",
    "$$ f'(t)\\approx \\frac{f(t+\\Delta t)-f(t)}{\\Delta t} $$\n",
    "\n",
    "The backward difference approximation at $t$ is given by \n",
    "\n",
    "$$ f'(t)\\approx \\frac{f(t)-f(t - \\Delta t)}{\\Delta t} $$\n",
    "\n",
    "\n",
    "\n",
    "For appropriately small (not too small) values of $\\Delta t$ we expect both of these to provide accurate approximations to the value of the derivative of $f$ at $t$. Of course in this simple case the derivative of $f$ is also $\\exp(t)$.\n",
    "\n",
    "Write functions to evaluate these two approximations given an arbitratry function $f$, location $t$ and $\\Delta t$ value, and test them by performing an error/convergence analysis for the function $f(t)$ given above at the location $t=1$. \n",
    "\n",
    "Include appropriate plots of the errors against the step size $\\Delta t$, and provide estimates of the order of convergence of the two approximations. What do you observe?\n",
    "\n",
    "<br>\n",
    "\n",
    "**1.2 [7 marks]**\n",
    "\n",
    "The Taylor series expansion of a function $f$ about a point $t_0$ can be written as \n",
    "\n",
    "\\begin{align*}\n",
    "f(t) & \\approx f(t_0) + (t-t_0) f'(t_0) + \\frac{(t-t_0)^2}{2!}f''(t_0) + \\frac{(t-t_0)^3}{3!}f'''(t_0) + \\ldots\n",
    "\\end{align*}\n",
    "\n",
    "Use this expansion about $t_0=0$ to provide an approximation to the function $f(t) = \\exp(t)$ in the form of a polynomial in $t$.\n",
    "\n",
    "Use this expansion to derive three approximations to the derivative function $f'(t)$ by differentiating the expansion and then excluding the terms that include powers of $t$ greater than 2, 3 and 4, i.e. by selecting where you truncate the expansion.\n",
    "\n",
    "How does the resulting error in the approximation to $f'(1)$ that these approximation provide vary with the number of terms that you include in the truncated expansion, and how does this contrast with the behaviour from question 1.1?\n",
    "\n",
    "<br>\n",
    "\n",
    "**1.3 [8 marks]**\n",
    "\n",
    "Now consider the ODE problem \n",
    "\n",
    "$$ \\frac{dy}{dt} = \\exp(t), \\;\\;\\;\\;\\;\\; y(0) = 1, $$ \n",
    "\n",
    "which has the exact solution $y(t) = \\exp(t)$.\n",
    "\n",
    "The forward Euler method is given by\n",
    "\n",
    "$$ y(t+\\Delta t) = y(t)+ \\Delta t f(t)$$\n",
    "\n",
    "while the backward Euler method is given by\n",
    "\n",
    "$$ y(t+\\Delta t) = y(t)+ \\Delta t f(t+\\Delta t)$$\n",
    "\n",
    "For a given $\\Delta t$ these can be used to provide an approximation to how the exact solution varies with $t$.\n",
    "\n",
    "Write functions to implement these two time-stepping methods and by solving the given ODE problem from $t=0$ up to $t=1$ verify your implementations by performing a convergence analysis against the exact solution.\n",
    "\n",
    "By performing one or two time steps of the two methods (in code or by hand) describe qualtiatively how the numerical solution diverges from the true function as $t$ increases for the two methods. \n",
    "Based upon what you observe, derive and implement a third method based upon appropriately combining the forward and the backward Euler methods; demonstrate clearly any improvement you are able to achieve."
   ]
  },
  {
   "cell_type": "markdown",
   "metadata": {},
   "source": [
    "## Solution"
   ]
  },
  {
   "cell_type": "code",
   "execution_count": 2,
   "metadata": {},
   "outputs": [
    {
     "name": "stdout",
     "output_type": "stream",
     "text": [
      "Exact derivative =  2.718281828459045\n",
      "  Forward difference                     Backward difference\n",
      "   3.52681 (error=      0.81)            2.13912 (error=      0.58)\n",
      "   3.08824 (error=      0.37)            2.40513 (error=      0.31)\n",
      "   2.89548 (error=      0.18)            2.55525 (error=      0.16)\n",
      "   2.80503 (error=     0.087)            2.63508 (error=     0.083)\n",
      "    2.7612 (error=     0.043)            2.67625 (error=     0.042)\n",
      "   2.73963 (error=     0.021)            2.69716 (error=     0.021)\n",
      "   2.72893 (error=     0.011)            2.70769 (error=     0.011)\n",
      "    2.7236 (error=    0.0053)            2.71298 (error=    0.0053)\n",
      "   2.72094 (error=    0.0027)            2.71563 (error=    0.0027)\n",
      "   2.71961 (error=    0.0013)            2.71695 (error=    0.0013)\n"
     ]
    },
    {
     "data": {
      "text/plain": [
       "<matplotlib.legend.Legend at 0x16076f88a58>"
      ]
     },
     "execution_count": 2,
     "metadata": {},
     "output_type": "execute_result"
    },
    {
     "data": {
      "image/png": "[encoded data removed]",
      "text/plain": [
       "<Figure size 504x360 with 1 Axes>"
      ]
     },
     "metadata": {
      "needs_background": "light"
     },
     "output_type": "display_data"
    }
   ],
   "source": [
    "def forward_diff(f, t, dt):\n",
    "    # this is my function answering question 1.1\n",
    "    return (f(t + dt)- f(t)) / dt\n",
    "\n",
    "\n",
    "def backward_diff(f, t, dt):\n",
    "    return (f(t) - f(t - dt)) / dt\n",
    "\n",
    "\n",
    "def fun(t):\n",
    "    return np.exp(t)\n",
    "\n",
    "# for this example we know trivially what the exact solution should be\n",
    "t = 1\n",
    "exact = np.exp(t)\n",
    "\n",
    "\n",
    "print('Exact derivative = ', exact)\n",
    "# headers for the following errors outputs\n",
    "print('%20s%40s' % ('Forward difference', 'Backward difference'))\n",
    "\n",
    "# we're going to store all the values for plotting, initialise variable for these\n",
    "fd_errors = []\n",
    "bd_errors = []\n",
    "dt_all = []\n",
    "dt = 0.5  # an initial mesh spacing\n",
    "for i in range(10):\n",
    "    fd = forward_diff(fun, t, dt)\n",
    "    bd = backward_diff(fun, t, dt)\n",
    "    print('%10g (error=%10.2g)         %10g (error=%10.2g)' %\n",
    "          (fd, abs(fd - exact), bd, abs(bd - exact)))\n",
    "    # store the dt values and the errors\n",
    "    dt_all.append(dt)\n",
    "    fd_errors.append(abs(fd - exact))\n",
    "    bd_errors.append(abs(bd - exact))\n",
    "    dt = dt / 2  # halve h for the next iteration\n",
    "\n",
    "# as we expect a polynomial relationship between dx and the errors,\n",
    "# a log-log plot will demonstrate this if we get straight lines\n",
    "# the slopes of these lines indicating the order of the relationship:\n",
    "# slope 1 for forward diff and slope 2 for central diff\n",
    "\n",
    "# set up figure\n",
    "fig = plt.figure(figsize=(7, 5))\n",
    "ax1 = plt.subplot(111)\n",
    "\n",
    "ax1.loglog(dt_all, fd_errors, 'b.-', label='Forward diff.')\n",
    "ax1.loglog(dt_all, bd_errors, 'k.-', label='Backward diff.')\n",
    "ax1.set_xlabel('$\\Delta t$', fontsize=16)\n",
    "ax1.set_ylabel('Error', fontsize=16)\n",
    "ax1.set_title('Convergence plot', fontsize=16)\n",
    "ax1.grid(True)\n",
    "ax1.legend(loc='best', fontsize=14)"
   ]
  },
  {
   "cell_type": "markdown",
   "metadata": {},
   "source": [
    "Our Taylor series expansion about $t_0=0$ reads\n",
    "\n",
    "\n",
    "\\begin{align}\n",
    "f(t)&=\\exp(t) \\\\\n",
    "&= \\exp(0) + t \\exp(0) + t^2/2! \\exp(0) + t^3/3! \\exp(0) + t^4/4! \\exp(0) + t^5/5! \\exp(0) + \\ldots \\\\\n",
    "&= 1 + t + t^2/2 + t^3/6 + t^4/24 + t^5/120 + \\ldots\n",
    "\\end{align}\n",
    "\n",
    "an approximation to the derivative w.r.t. $t$ is therefore\n",
    "\n",
    "\\begin{align}\n",
    "f'(t) = 0  + 1 + 2t/2 + 3t^2/6 + 4t^3/24 + 5t^4/120 + \\ldots\n",
    "\\end{align}\n",
    "\n",
    "and by truncating at different points we have three different approximations to $f'(1)$:\n",
    "\n",
    "\\begin{align}\n",
    "f'(1) =   1 + 2\\times 1/2 + 3\\times 1^2/6 \n",
    "\\end{align}\n",
    "\n",
    "\\begin{align}\n",
    "f'(1) =   1 + 2\\times 1/2 + 3\\times 1^2/6 + 4\\times 1^3/24 \n",
    "\\end{align}\n",
    "\n",
    "\\begin{align}\n",
    "f'(1) =   1 + 2\\times 1/2 + 3\\times 1^2/6 + 4\\times 1^3/24 + 5\\times 1^4/120 \n",
    "\\end{align}\n",
    "\n",
    "and so on"
   ]
  },
  {
   "cell_type": "code",
   "execution_count": 8,
   "metadata": {},
   "outputs": [
    {
     "name": "stdout",
     "output_type": "stream",
     "text": [
      "[0.71828183 0.21828183 0.05161516 0.0099485 ]\n"
     ]
    },
    {
     "data": {
      "text/plain": [
       "<matplotlib.legend.Legend at 0x1b1ed881390>"
      ]
     },
     "execution_count": 8,
     "metadata": {},
     "output_type": "execute_result"
    },
    {
     "data": {
      "image/png": "[encoded data removed]",
      "text/plain": [
       "<Figure size 504x360 with 1 Axes>"
      ]
     },
     "metadata": {
      "needs_background": "light"
     },
     "output_type": "display_data"
    }
   ],
   "source": [
    "# for this example we know trivially what the exact solution should be\n",
    "t = 1\n",
    "exact = np.exp(t)\n",
    "\n",
    "Tayor_approxs = [1. + 2*(1)/2, \n",
    "                 1. + 2*(1)/2 + 3* (1**2)/6, \n",
    "                 1. + 2*(1)/2 + 3* (1**2)/6 + 4* (1**3)/24,\n",
    "                 1. + 2*(1)/2 + 3* (1**2)/6 + 4* (1**3)/24 + 5* (1**4)/120]\n",
    "\n",
    "Taylor_errors = np.abs(Tayor_approxs - exact)\n",
    "\n",
    "print(Taylor_errors)\n",
    "\n",
    "Taylor_f_evals = [1, 2, 3, 4]\n",
    "\n",
    "# set up figure\n",
    "fig = plt.figure(figsize=(7, 5))\n",
    "ax1 = plt.subplot(111)\n",
    "\n",
    "ax1.loglog(Taylor_f_evals, Taylor_errors, 'r.-', label='Taylor series errors')\n",
    "ax1.set_xlabel('Terms in expansion', fontsize=16)\n",
    "ax1.set_ylabel('Error', fontsize=16)\n",
    "ax1.set_title('Convergence plot', fontsize=16)\n",
    "ax1.grid(True)\n",
    "ax1.legend(loc='best', fontsize=14)"
   ]
  },
  {
   "cell_type": "markdown",
   "metadata": {},
   "source": [
    "The main difference in the convergance is that as we add more terms the errors go down faster, i.e. each extra term reduces the error far more substantially (for this problem) than we see as we halve the $dt$ values in the finite difference approximations."
   ]
  },
  {
   "cell_type": "code",
   "execution_count": 80,
   "metadata": {},
   "outputs": [],
   "source": [
    "# forward and backward euler implementations are straightforward \n",
    "# backward is trivial since the function only depends on t\n",
    "# by sketching out a few time steps one can observe that the\n",
    "# forward euler trajectory is too small - it maps out a line below the exact solutuon\n",
    "# backward euler in contrast is too large - it maps our a line above\n",
    "# the amount above and below are very similar, and this points to taking an\n",
    "# average of the two\n",
    "\n",
    "def f(t):\n",
    "    return np.exp(t)\n",
    "\n",
    "def y_ex(t):\n",
    "    return np.exp(t)\n",
    "\n",
    "def forward_euler(f, y0, t0, t_max, dt):\n",
    "    y = np.array(y0)\n",
    "    t = np.array(t0)\n",
    "    y_all = [y0]\n",
    "    t_all = [t0]\n",
    "    while t < t_max:\n",
    "        y = y + dt*f(t)\n",
    "        y_all.append(y)\n",
    "        t = t + dt\n",
    "        t_all.append(t)\n",
    "    return np.array(y_all), np.array(t_all)\n",
    "\n",
    "def backward_euler(f, y0, t0, t_max, dt):\n",
    "    y = np.array(y0)\n",
    "    t = np.array(t0)\n",
    "    y_all = [y0]\n",
    "    t_all = [t0]\n",
    "    while t < t_max:\n",
    "        y = y + dt*f(t+dt) \n",
    "        y_all.append(y)\n",
    "        t = t + dt\n",
    "        t_all.append(t)\n",
    "    return np.array(y_all), np.array(t_all)\n",
    "\n",
    "def for_back_euler(f, y0, t0, t_max, dt):\n",
    "    y = np.array(y0)\n",
    "    t = np.array(t0)\n",
    "    y_all = [y0]\n",
    "    t_all = [t0]\n",
    "    while t < t_max:\n",
    "        y = y + dt*0.5*(f(t) + f(t+dt)) \n",
    "        y_all.append(y)\n",
    "        t = t + dt\n",
    "        t_all.append(t)\n",
    "    return np.array(y_all), np.array(t_all)"
   ]
  },
  {
   "cell_type": "code",
   "execution_count": 81,
   "metadata": {},
   "outputs": [
    {
     "data": {
      "text/plain": [
       "<matplotlib.legend.Legend at 0x2080ee064c8>"
      ]
     },
     "execution_count": 81,
     "metadata": {},
     "output_type": "execute_result"
    },
    {
     "data": {
      "image/png": "[encoded data removed]",
      "text/plain": [
       "<Figure size 720x360 with 1 Axes>"
      ]
     },
     "metadata": {
      "needs_background": "light"
     },
     "output_type": "display_data"
    }
   ],
   "source": [
    "# the following allows us to plot triangles indicating convergence order\n",
    "from mpltools import annotation\n",
    "\n",
    "# problem parameters\n",
    "t0 = 0.0\n",
    "y0 = 1.0\n",
    "t_max = 1.\n",
    "\n",
    "def approx_error(dt, t_max):\n",
    "    yall, tall = forward_euler(f, y0, t0, t_max, dt)\n",
    "    err1 = abs(yall[-1] - y_ex(t_max))\n",
    "    yall, tall = backward_euler(f, y0, t0, t_max, dt)\n",
    "    err2 = abs(yall[-1] - y_ex(t_max))\n",
    "    yall, tall = for_back_euler(f, y0, t0, t_max, dt)\n",
    "    err3 = abs(yall[-1] - y_ex(t_max))\n",
    "    return err1, err2, err3\n",
    "\n",
    "\n",
    "error_fe = []\n",
    "error_be = []\n",
    "error_fbe = []\n",
    "dt_array = []\n",
    "\n",
    "dt = 1.\n",
    "while dt > 5.e-4:\n",
    "    dt_array.append(dt)\n",
    "    err1, err2, err3 = approx_error(dt, t_max)\n",
    "    error_fe.append(err1)\n",
    "    error_be.append(err2)\n",
    "    error_fbe.append(err3)\n",
    "    dt *= 0.5\n",
    "\n",
    "fig, ax1 = plt.subplots(1, 1, figsize=(10, 5))\n",
    "ax1.loglog(dt_array, error_fe, 'k.', label='Forward Euler')\n",
    "ax1.loglog(dt_array, error_be, 'b.', label='Backward Euler')\n",
    "ax1.loglog(dt_array, error_fbe, 'r.', label='Combined')\n",
    "ax1.set_xlabel('$\\Delta t$', fontsize=14)\n",
    "ax1.set_ylabel('Error at $t=3$', fontsize=14)\n",
    "ax1.set_title('Convergence test', fontsize=14)\n",
    "ax1.grid(True)\n",
    "\n",
    "# use numpy.polyfit to find best fit linear line to data\n",
    "\n",
    "# what does this parameter do, and what happens if you choose equal to a smaller value\n",
    "start_fit = 4\n",
    "\n",
    "line_fit_fe = np.polyfit(np.log(dt_array[start_fit:]), np.log(error_fe[start_fit:]), 1)\n",
    "line_fit_be = np.polyfit(np.log(dt_array[start_fit:]), np.log(error_be[start_fit:]), 1)\n",
    "line_fit_fbe = np.polyfit(np.log(dt_array[start_fit:]), np.log(error_fbe[start_fit:]), 1)\n",
    "\n",
    "ax1.loglog(dt_array, np.exp(line_fit_fe[1]) * dt_array**(line_fit_fe[0]), 'k-', label = 'slope: {:.2f}'.format(line_fit_fe[0]))\n",
    "ax1.loglog(dt_array, np.exp(line_fit_be[1]) * dt_array**(line_fit_be[0]), 'b-', label = 'slope: {:.2f}'.format(line_fit_be[0]))\n",
    "ax1.loglog(dt_array, np.exp(line_fit_fbe[1]) * dt_array**(line_fit_fbe[0]), 'r-', label = 'slope: {:.2f}'.format(line_fit_fbe[0]))\n",
    "\n",
    "annotation.slope_marker((1e-2, 5e-3), (1, 1), ax=ax1, size_frac=0.15, pad_frac=0.05)\n",
    "annotation.slope_marker((1e-2, 1e-5), (2, 1), ax=ax1, size_frac=0.15, pad_frac=0.05)\n",
    "\n",
    "ax1.legend(loc='best', fontsize=14)"
   ]
  },
  {
   "cell_type": "markdown",
   "metadata": {},
   "source": [
    "So as can clearly be seen the errors in the new combined method are singificantly smaller than either FE or BE."
   ]
  },
  {
   "cell_type": "code",
   "execution_count": null,
   "metadata": {},
   "outputs": [],
   "source": []
  },
  {
   "cell_type": "markdown",
   "metadata": {},
   "source": [
    "### Question 2 - integration/quadrature [25 marks]\n",
    "\n",
    "<br>\n",
    "\n",
    "**2.1 [10 marks]**\n",
    "\n",
    "Recall that the trapezoidal quadrature rule can be written as\n",
    "\n",
    "$$I_T := \\sum_{i=0}^{n-1}\\, \\left(\\frac{f(x_{i+1}) + f(x_{i})}{2}\\right )\\, (x_{i+1}-x_i). $$\n",
    "\n",
    "This provides an approximation to the integral of the function $f(x)$ over the interval spanned\n",
    "by the equally spaced $x_i$ locations, i.e. \n",
    "\n",
    "$$I_T\\approx \\int_{x_0}^{x_n} f(x)\\, dx.$$\n",
    "\n",
    "Derive mathematically and implement in code the composite version of this rule, i.e. one which minimises the number of times that $f$ needs to be evaluated. Verify your implementation by checking for convergence using the problem\n",
    "\n",
    "$$\\int_0^1 \\exp(x)\\, dx = \\exp(1) - \\exp(0) = \\exp(1) - 1$$\n",
    "\n",
    "<br>\n",
    "\n",
    "**2.2  [10 marks]**\n",
    "\n",
    "Since the Trapezoidal rule is second order, i.e. the error reduces by a factor of 4 if we double the number of intervals (equivalently make the interval size half the size), then we can combine the results from two evaluations of the trapezoidal rule and two different $\\Delta x$ values in order to cancel the leading order error term and arrive at a more accurate result.\n",
    "\n",
    "Using the notation $I_T$ for the output of the trapezoidal rule with $n$ intervals, and $I_{T_2}$ for the output with $2n$ intervals, explain why the result\n",
    "\n",
    "$$I = \\frac{1}{3}\\left( 4I_{T_2} - I_T \\right)$$\n",
    "\n",
    "can be expected to yield a more accurate approximation to the integral than either $I_T$ or $I_{T_2}$ alone. \n",
    "\n",
    "Using the test case function from 2.1, implement this method and demonstrate its improved accuracy.\n",
    "\n",
    "<br>\n",
    "\n",
    "**2.3  [5 marks]**\n",
    "\n",
    "Starting from the mathematical form of the composite trapezoidal rule, demonstrate that the new rule \n",
    "\n",
    "$$I = \\frac{1}{3}\\left( 4I_{T_2} - I_T \\right)$$\n",
    "\n",
    "from part 2.2 is actually equivalent to Simpson's rule."
   ]
  },
  {
   "cell_type": "markdown",
   "metadata": {},
   "source": [
    "## Solution"
   ]
  },
  {
   "cell_type": "markdown",
   "metadata": {},
   "source": [
    "Let's expand out the rule and collect $f$ terms evaluated at the same $x$ location\n",
    "\n",
    "$$I_T  = \\sum_{i=0}^{n-1}\\,   \\left(\\frac{f(x_{i+1}) + f(x_{i})}{2}\\right )\\, (x_{i+1}-x_i), $$\n",
    "\n",
    "is equivalent to\n",
    "\n",
    "$$\n",
    "\\begin{align}\n",
    "I_T &= \\frac{\\Delta x}{2}[f(x_0) + 2f(x_1) + 2f(x_2) + \\ldots + 2f(x_{n-1}) + f(x_n)]\\\\[8pt]\n",
    "& = \\Delta x \\left[ \\frac{1}{2}f(x_0) + \\left\\{ \\sum_{i=1}^{n-1}\\,f(x_{i})  \\right\\} + \\frac{1}{2}f(x_n) \\right]\n",
    "\\end{align}\n",
    "$$\n",
    "\n",
    "To implement this we can do the inner sum and then add on half the two outer most values, and finally multiply by the interval size."
   ]
  },
  {
   "cell_type": "code",
   "execution_count": 82,
   "metadata": {},
   "outputs": [],
   "source": [
    "# test problem\n",
    "\n",
    "def f(x):\n",
    "    \"\"\"The function we wish to integrate\"\"\"\n",
    "    return np.exp(x)\n",
    "\n",
    "a = 0\n",
    "b = 1\n",
    "\n",
    "exact_integral = np.exp(1) - 1"
   ]
  },
  {
   "cell_type": "code",
   "execution_count": 83,
   "metadata": {},
   "outputs": [],
   "source": [
    "# this is the naive non-composite version\n",
    "def trapezoidal_rule(a, b, function, number_intervals=10):\n",
    "    \"\"\"Our implementation of the trapezoidal quadrature rule.\n",
    "    \n",
    "    Note that as discussed in the lecture this version of the implementation \n",
    "    performs redundant function evaluations - see the composite implementation \n",
    "    in the homework for a more efficient version.\n",
    "    \"\"\"\n",
    "    interval_size = (b - a)/number_intervals\n",
    "\n",
    "    assert interval_size > 0\n",
    "    assert type(number_intervals) == int\n",
    "\n",
    "    I_T = 0.0\n",
    "\n",
    "    # Loop to create each trapezoid\n",
    "    # note this function takes a slightly different approach to Midpoint \n",
    "    # (a for loop rather than a while loop) to achieve the same thing\n",
    "    for i in range(number_intervals):\n",
    "        # Set the start of this interval \n",
    "        this_bin_start = a + (interval_size * i)\n",
    "        # Find the area of the current trapezoid and add it to the running total\n",
    "        I_T += interval_size * \\\n",
    "                (function(this_bin_start)+function(this_bin_start+interval_size))/2.0\n",
    "\n",
    "    # Return our running total result\n",
    "    return I_T"
   ]
  },
  {
   "cell_type": "code",
   "execution_count": 84,
   "metadata": {},
   "outputs": [
    {
     "name": "stdout",
     "output_type": "stream",
     "text": [
      "The exact area found by direct integration =  1.718281828459045\n",
      "Area 1 rectangle(s) = 1.85914 (error=0.140859)\n",
      "Area 2 rectangle(s) = 1.75393 (error=0.0356493)\n",
      "Area 10 rectangle(s) = 1.71971 (error=0.00143166)\n",
      "Area 100 rectangle(s) = 1.7183 (error=1.4319e-05)\n",
      "Area 1000 rectangle(s) = 1.71828 (error=1.4319e-07)\n"
     ]
    }
   ],
   "source": [
    "print(\"The exact area found by direct integration = \", exact_integral)\n",
    "for i in (1, 2, 10, 100, 1000):\n",
    "    area = trapezoidal_rule(a, b, f, i)\n",
    "    print(\"Area %d rectangle(s) = %g (error=%g)\"%(i, area, abs(area-exact_integral)))\n"
   ]
  },
  {
   "cell_type": "code",
   "execution_count": 85,
   "metadata": {},
   "outputs": [
    {
     "name": "stdout",
     "output_type": "stream",
     "text": [
      "The exact area found by direct integration =  1.718281828459045\n",
      "Area 1    trapezoid(s) = 1.8591409142295225 (error = 1.408590857704774546e-01)\n",
      "Area 2    trapezoid(s) = 1.7539310924648255 (error = 3.564926400578039001e-02)\n",
      "Area 4    trapezoid(s) = 1.7272219045575166 (error = 8.940076098471472221e-03)\n",
      "Area 8    trapezoid(s) = 1.7205185921643018 (error = 2.236763705256716861e-03)\n",
      "Area 16   trapezoid(s) = 1.7188411285799945 (error = 5.593001209494019577e-04)\n",
      "Area 32   trapezoid(s) = 1.7184216603163271 (error = 1.398318572820578254e-04)\n",
      "Area 100  trapezoid(s) = 1.7182961474504177 (error = 1.431899137260828070e-05)\n",
      "Area 1000 trapezoid(s) = 1.7182819716491959 (error = 1.431901508475164064e-07)\n"
     ]
    },
    {
     "data": {
      "text/plain": [
       "<matplotlib.legend.Legend at 0x2080f51a548>"
      ]
     },
     "execution_count": 85,
     "metadata": {},
     "output_type": "execute_result"
    },
    {
     "data": {
      "image/png": "[encoded data removed]",
      "text/plain": [
       "<Figure size 504x504 with 1 Axes>"
      ]
     },
     "metadata": {
      "needs_background": "light"
     },
     "output_type": "display_data"
    }
   ],
   "source": [
    "# Now let's test the trapezoidal function.\n",
    "print(\"The exact area found by direct integration = \", exact_integral)\n",
    "interval_sizes_T = [1, 2, 4, 8, 16, 32, 100, 1000]\n",
    "areas_T = np.zeros_like(interval_sizes_T, dtype='float64')\n",
    "errors_T = np.zeros_like(interval_sizes_T, dtype='float64')\n",
    "for (i, number_intervals) in enumerate(interval_sizes_T):\n",
    "    areas_T[i] = trapezoidal_rule(a, b, f, number_intervals)\n",
    "    errors_T[i] = abs(areas_T[i] - exact_integral)\n",
    "    print('Area {:<4d} trapezoid(s) = {:.16f} (error = {:.18e})'.format(\n",
    "        number_intervals, areas_T[i], errors_T[i]))\n",
    "\n",
    "# plot\n",
    "fig = plt.figure(figsize=(7, 7))\n",
    "ax1 = plt.subplot(111)\n",
    "ax1.loglog(interval_sizes_T, errors_T, 'bo-', lw=2)\n",
    "ax1.set_xlabel('log(number_intervals)', fontsize=16)\n",
    "ax1.set_ylabel('log(error)', fontsize=16)\n",
    "ax1.set_title('Convergence plot when integrating $\\sin$ with midpoint rule', fontsize=16)\n",
    "ax1.loglog(interval_sizes_T, errors_T, 'bo-', lw=2, label='Trapezoidal')\n",
    "ax1.legend(loc='best', fontsize=14)"
   ]
  },
  {
   "cell_type": "code",
   "execution_count": 86,
   "metadata": {},
   "outputs": [],
   "source": [
    "# this is the composite version\n",
    "\n",
    "def composite_trapezoidal_rule(a, b, function, number_intervals=10):\n",
    "    \"\"\"Our implementation of the trapezoidal quadrature rule - composite version\"\"\"\n",
    "    interval_size = (b - a)/number_intervals\n",
    "    assert interval_size > 0\n",
    "    assert type(number_intervals) == int\n",
    "    I_T = 0.0\n",
    "    # add half the left most value\n",
    "    I_T += function(a)/2.0\n",
    "    # sum from 1 to n-1\n",
    "    for i in range(1, number_intervals):\n",
    "        I_T += function(a + i * interval_size)\n",
    "    # add ha;f the right most value\n",
    "    I_T += function(b)/2.0\n",
    "    # Return our running total result multiplied by the interval size\n",
    "    return I_T * interval_size"
   ]
  },
  {
   "cell_type": "code",
   "execution_count": 87,
   "metadata": {},
   "outputs": [
    {
     "name": "stdout",
     "output_type": "stream",
     "text": [
      "The exact area found by direct integration =  1.718281828459045\n",
      "Area 1 rectangle(s) = 1.85914 (error=0.140859)\n",
      "Area 2 rectangle(s) = 1.75393 (error=0.0356493)\n",
      "Area 10 rectangle(s) = 1.71971 (error=0.00143166)\n",
      "Area 100 rectangle(s) = 1.7183 (error=1.4319e-05)\n",
      "Area 1000 rectangle(s) = 1.71828 (error=1.4319e-07)\n"
     ]
    }
   ],
   "source": [
    "print(\"The exact area found by direct integration = \", exact_integral)\n",
    "for i in (1, 2, 10, 100, 1000):\n",
    "    area = composite_trapezoidal_rule(a, b, f, i)\n",
    "    print(\"Area %d rectangle(s) = %g (error=%g)\"%(i, area, abs(area - exact_integral)))"
   ]
  },
  {
   "cell_type": "markdown",
   "metadata": {},
   "source": [
    "Identical to above.\n",
    "\n",
    "Now to justify that we expect\n",
    "\n",
    "$$I = \\frac{1}{3}\\left( 4I_{T_2} - I_T \\right)$$\n",
    "\n",
    "to be a more accurate result that either $I_T$ or $I_{T_2}$.\n",
    "\n",
    "If we consider the leading order error in $I_T$ to be $\\alpha$, i.e.\n",
    "\n",
    "$$I_T \\approx I + \\alpha + \\text{smaller terms(1)}$$\n",
    "\n",
    "and these \"smaller terms\" can be made arbitrarily small if $n$ is chosen large enough as they include various higher order powers of $\\Delta x$, then by the second order error argument\n",
    "\n",
    "$$I_{T_2} \\approx I + \\frac{1}{4}\\alpha + \\text{smaller terms(2)}$$\n",
    "\n",
    "We want a new estimate for $I$ that does not include this $\\alpha$ term.\n",
    "\n",
    "If we multiply the second by 4 and subtract the first we can cancel:\n",
    "\n",
    "$$ 4I_{T_2} - I_T \\approx 3I + \\text{smaller terms(3)}$$\n",
    "\n",
    "where \"smaller terms(3)\" is some combination of the higher order terms that can still be made arbitrarily small if $\\Delta x$ chosen small enough.  Dividing through by 3 gives us a new estimate of the integral where we have cancelled the leading order error term.\n",
    "\n",
    "And it's easy to implement if we already have functions to compute the trap rule:"
   ]
  },
  {
   "cell_type": "code",
   "execution_count": 88,
   "metadata": {},
   "outputs": [],
   "source": [
    "def extrapolated_trap_rule(a, b, function, number_intervals=10):\n",
    "    \"\"\" Function to evaluate a new quadrature rule using\n",
    "    appropriate calls to the composite trapezoidal function\n",
    "    \"\"\"\n",
    "    T = composite_trapezoidal_rule(a, b, function, number_intervals)\n",
    "    T2 = composite_trapezoidal_rule(a, b, function, number_intervals*2)\n",
    "\n",
    "    return (4*T2 - T)/3."
   ]
  },
  {
   "cell_type": "code",
   "execution_count": 89,
   "metadata": {},
   "outputs": [
    {
     "name": "stdout",
     "output_type": "stream",
     "text": [
      "Area 1 rectangle(s) = 1.71886 (error=0.000579323)\n",
      "Area 2 rectangle(s) = 1.71832 (error=3.70135e-05)\n",
      "Area 4 rectangle(s) = 1.71828 (error=2.32624e-06)\n",
      "Area 8 rectangle(s) = 1.71828 (error=1.45593e-07)\n",
      "Area 16 rectangle(s) = 1.71828 (error=9.10273e-09)\n",
      "Area 32 rectangle(s) = 1.71828 (error=5.68971e-10)\n",
      "Area 64 rectangle(s) = 1.71828 (error=3.55607e-11)\n"
     ]
    }
   ],
   "source": [
    "for i in (1, 2, 4, 8, 16, 32, 64):\n",
    "    area = extrapolated_trap_rule(a, b, f, i)\n",
    "    print(\"Area %d rectangle(s) = %g (error=%g)\"%(i, area, abs(area-exact_integral)))"
   ]
  },
  {
   "cell_type": "markdown",
   "metadata": {},
   "source": [
    "Note the smaller errors and more rapid convergence."
   ]
  },
  {
   "cell_type": "markdown",
   "metadata": {},
   "source": [
    "Our starting point is the trapezoidal method\n",
    "\n",
    "$$\n",
    "\\begin{align}\n",
    "I_T &= [f(x_0) + 2f(x_1) + 2f(x_2) + \\ldots + 2f(x_{n-1}) + f(x_n)]\\frac{\\Delta x}{2}\\\\\n",
    "& = \\Delta x \\left[ \\frac{1}{2}f(x_0) + \\left\\{ \\sum_{i=1}^{n-1}\\,f(x_{i})  \\right\\} + \\frac{1}{2}f(x_n) \\right]\n",
    "\\end{align}\n",
    "$$\n",
    "\n",
    "and specifically the second composite form."
   ]
  },
  {
   "cell_type": "markdown",
   "metadata": {},
   "source": [
    "Our new method is given by\n",
    "\n",
    "$$I = \\frac{1}{3}\\left( 4I_{T_2} - I_T \\right)$$\n",
    "\n",
    "Let's consider two sets of $x$ variables - the base ones at the original resolution, and then the ones on the finer mesh, the finer mesh as we've halved the interval size include all the original ones as well as the extra points directly in between.\n",
    "\n",
    "If we define our $\\Delta x$ and our $x_i$ values on the finer mesh, then we have\n",
    "\\begin{align}\n",
    "I_{T_2} &= {\\Delta x} \\left[ \\frac{1}{2}f(x_0) + \\left\\{ \\sum_{i=1}^{n-1}\\,f(x_{i})  \\right\\} + \\frac{1}{2}f(x_n) \\right]\n",
    "\\end{align}\n",
    "\n",
    "and then $I_T$ uses double the $\\Delta x$ value, and only every other $x_i$ value, starting at $i=0$ at the left-most separate entry, with the inner summation starting at $i=2$ and ending with $i = n-2$, and then the final entry as per the left-most, which can be written as:\n",
    "\n",
    "\\begin{align}\n",
    "I_T = 2 \\Delta x \\left[ \\frac{1}{2}f(x_0) + \\left\\{ \\sum_{i=1}^{n/2-1}\\,f(x_{2i})  \\right\\} + \\frac{1}{2}f(x_n) \\right]\n",
    "\\end{align}\n",
    "\n",
    "\n",
    "\n",
    "First consider the $f(x_0)$ terms in $( 4I_{T_2} - I_T )/3$:\n",
    "\n",
    "$${\\Delta x}\\left( 4  \\frac{1}{2}f(x_0) - 2 \\frac{1}{2}f(x_0)  \\right)/3 \n",
    "= \\frac{\\Delta x}{3} f(x_0)$$\n",
    "\n",
    "<br>\n",
    "\n",
    "With a bit of thinking and the appropriate use of notation, this can be written as\n",
    "\n",
    "\\begin{align*}\n",
    "I \n",
    "& = \\frac{\\Delta x}{3}\\left[ f \\left ( x_0\\right ) + 4f \\left ( x_1\\right ) + 2f\\left ( x_2\\right ) + 4f \\left ( x_3\\right ) + \\cdots + 2 f \\left ( x_{n-2}\\right )  + 4 f \\left ( x_{n-1}\\right ) +  f \\left ( x_{n}\\right ) \\right]\\\\[5pt]\n",
    "& = \\frac{\\Delta x}{3}\\left[ f \\left ( x_0\\right ) + 2\\sum_{i=1}^{n/2 - 1} f\\left(x_{2i}\\right) + 4\\sum_{i=1}^{n/2} f\\left(x_{2i-1}\\right)  +  f \\left ( x_{n}\\right ) \\right].\n",
    "\\end{align*}\n",
    "\n",
    "which is indeed identical to Simpson's rule."
   ]
  },
  {
   "cell_type": "code",
   "execution_count": 90,
   "metadata": {},
   "outputs": [],
   "source": [
    "# compare errors against a straight implementation of Simpson\n",
    "\n",
    "def simpsons_composite_rule(a, b, function, number_intervals=10):\n",
    "    \"\"\"Function to evaluate the composite Simpson's rule only using\n",
    "    function evaluations at (number_intervals + 1) points.\n",
    "    \n",
    "    This implementation requires that the number of subintervals (number_intervals) be even\n",
    "    \"\"\"\n",
    "    assert number_intervals % 2 == 0, \"number_intervals is not even\"\n",
    "\n",
    "    interval_size = (b - a) / number_intervals\n",
    "    # start with the two end member values\n",
    "    I_cS2 = function(a) + function(b)\n",
    "\n",
    "    # add in those terms with a coefficient of 4\n",
    "    for i in range(1, number_intervals, 2):\n",
    "        I_cS2 += 4 * function(a + i * interval_size)\n",
    "\n",
    "    # and those terms with a coefficient of 2\n",
    "    for i in range(2, number_intervals-1, 2):\n",
    "        I_cS2 += 2 * function(a + i * interval_size)\n",
    "\n",
    "    return I_cS2 * (interval_size / 3.0)"
   ]
  },
  {
   "cell_type": "code",
   "execution_count": 91,
   "metadata": {},
   "outputs": [
    {
     "name": "stdout",
     "output_type": "stream",
     "text": [
      "Area 2 rectangle(s) = 1.71886 (error=0.000579323)\n",
      "Area 4 rectangle(s) = 1.71832 (error=3.70135e-05)\n",
      "Area 8 rectangle(s) = 1.71828 (error=2.32624e-06)\n",
      "Area 16 rectangle(s) = 1.71828 (error=1.45593e-07)\n",
      "Area 32 rectangle(s) = 1.71828 (error=9.10273e-09)\n",
      "Area 64 rectangle(s) = 1.71828 (error=5.6897e-10)\n",
      "Area 128 rectangle(s) = 1.71828 (error=3.55607e-11)\n"
     ]
    }
   ],
   "source": [
    "for i in (2, 4, 8, 16, 32, 64, 128): # need to double the number for consistency with the extrapolated version\n",
    "    area = simpsons_composite_rule(a, b, f, i)\n",
    "    print(\"Area %d rectangle(s) = %g (error=%g)\"%(i, area, abs(area-exact_integral)))"
   ]
  },
  {
   "cell_type": "markdown",
   "metadata": {},
   "source": [
    "Note that these results/error agree with the extrapolated trapezoidal results above."
   ]
  },
  {
   "cell_type": "markdown",
   "metadata": {},
   "source": [
    "### Question 3 - interpolation and root-finding [25 marks]\n",
    "\n",
    "<br>\n",
    "\n",
    "**3.1 [12 marks]**\n",
    "\n",
    "Consider the three $(x,y)$ data points\n",
    "\n",
    "$$\\{\\;\\;(0,1), \\;\\;(0.4, 0.1),\\;\\; (1,0.5)\\}$$\n",
    "\n",
    "Consider initially only the outer two points $\\{(x_0,y_0),  (x_2,y_2)\\}$.\n",
    "Derive by hand the Lagrange polynomial that passes through these two points and show (e.g. through a plot) that your result agrees with the result you can obtain using SciPy.\n",
    "\n",
    "Repeat for all three points.\n",
    "\n",
    "<br>\n",
    "\n",
    "**3.2 [3 marks]**\n",
    "\n",
    "Give an example of four distinct data points that can be interpolated using a quadratic function.\n",
    "\n",
    "\n",
    "<br>\n",
    "\n",
    "**3.3 [10 marks]**\n",
    "\n",
    "Consider now the root-finding problem applied to a quadratic function\n",
    "\n",
    "$$f(x) = ax^2 + bx + c$$\n",
    "\n",
    "Provide examples of quadratic functions (i.e. select values for $a$, $b$ and $c$) with zero, one and multiple real-valued roots.\n",
    "\n",
    "In the case where they exist, use Newton's method to find the roots.\n",
    "\n",
    "Using the quadratic example, explain and demonstrate how Newton's method can fail. "
   ]
  },
  {
   "cell_type": "markdown",
   "metadata": {},
   "source": [
    "## Solution"
   ]
  },
  {
   "cell_type": "markdown",
   "metadata": {},
   "source": [
    "In the case with two data points  $\\{(0,1), (1,0.5)\\}$\n",
    "\n",
    "The Lagrange basis polynomials are then\n",
    "\n",
    "$$ \\ell_0(x) = \\frac{x - x_1}{x_0-x_1} =  \\frac{x - 1}{0-1}  = 1-x $$\n",
    "\n",
    "and\n",
    "\n",
    "$$\\ell_1(x) = \\frac{x - x_0}{x_1-x_0} = \\frac{x - 0}{1-0} = x, $$\n",
    "\n",
    "and the Lagrange polynomial is\n",
    "\n",
    "$$ y = L(x) = \\ell_0(x)\\,y_0 + \\ell_1(x)\\,y_1 = (1-x)\\times 1 + x\\times 0.5 $$\n",
    "\n",
    "which can be simplified if desired to\n",
    "\n",
    "$$y = 1 - x/2$$"
   ]
  },
  {
   "cell_type": "code",
   "execution_count": 3,
   "metadata": {},
   "outputs": [
    {
     "data": {
      "text/plain": [
       "[<matplotlib.lines.Line2D at 0x1e76b131f88>]"
      ]
     },
     "execution_count": 3,
     "metadata": {},
     "output_type": "execute_result"
    },
    {
     "data": {
      "image/png": "[encoded data removed]",
      "text/plain": [
       "<Figure size 576x432 with 1 Axes>"
      ]
     },
     "metadata": {
      "needs_background": "light"
     },
     "output_type": "display_data"
    }
   ],
   "source": [
    "# confirm in a plot\n",
    "\n",
    "# set up figure\n",
    "fig = plt.figure(figsize=(8, 6))\n",
    "ax1 = fig.add_subplot(111)\n",
    "ax1.margins(0.1)\n",
    "\n",
    "x0 = 0\n",
    "y0 = 1\n",
    "x1 = 1\n",
    "y1 = 0.5\n",
    "\n",
    "x = np.linspace(-0.1, 1.1, 100)\n",
    "\n",
    "y = (1-x) + 0.5*x\n",
    "\n",
    "ax1.plot(x, y, 'b')\n",
    "\n",
    "ax1.plot(x0,y0,'ro')\n",
    "ax1.plot(x1,y1,'ro')"
   ]
  },
  {
   "cell_type": "code",
   "execution_count": 4,
   "metadata": {},
   "outputs": [
    {
     "name": "stdout",
     "output_type": "stream",
     "text": [
      " \n",
      "-0.5 x + 1\n"
     ]
    },
    {
     "data": {
      "image/png": "[encoded data removed]",
      "text/plain": [
       "<Figure size 576x432 with 1 Axes>"
      ]
     },
     "metadata": {
      "needs_background": "light"
     },
     "output_type": "display_data"
    }
   ],
   "source": [
    "# repeat using scipy\n",
    "\n",
    "xi = np.array([0, 1])\n",
    "yi = np.array([1, 0.5])\n",
    "\n",
    "# Create the Lagrange polynomial for the given points.\n",
    "lp = si.lagrange(xi, yi)\n",
    "\n",
    "print(lp)\n",
    "\n",
    "# Evaluate this function at a high resolution (100 points here) so that \n",
    "# we get a smooth well-resolved line when we plot our polynomial\n",
    "x = np.linspace(-0.1, 1.1, 100)\n",
    "\n",
    "# set up the figure\n",
    "fig = plt.figure(figsize=(8, 6))\n",
    "ax1 = fig.add_subplot(111)\n",
    "ax1.margins(0.1)\n",
    "\n",
    "# actually plot (x,y)=(x,lp(x)) on the axes with the label ax1\n",
    "ax1.plot(x, lp(x), 'b', label='Lagrange interpolating polynomial')\n",
    "\n",
    "ax1.plot(x0,y0,'ro')\n",
    "ax1.plot(x1,y1,'ro')\n",
    "\n",
    "# Add a legend\n",
    "ax1.legend(loc='best', fontsize=14);"
   ]
  },
  {
   "cell_type": "markdown",
   "metadata": {},
   "source": [
    "In the case with three data points  $\\{(0,1), (0.4,0.1), (1,0.5)\\}$\n",
    "\n",
    "The Lagrange basis polynomials are then\n",
    "\n",
    "$$ \\ell_0(x) = \\frac{(x - x_1)(x-x_2)}{(x_0-x_1)(x_0-x_2)} = \\frac{(x - 0.4)(x-1)}{(-0.4)(-1)} =  \\frac{(x - 0.4)(x-1)}{0.4} $$\n",
    "\n",
    "$$\\ell_1(x) = \\frac{(x - x_0)(x-x_2)}{(x_1-x_0)(x_1-x_2)} = \\frac{(x - 0)(x-1)}{(0.4-0)(0.4-1)} = \\frac{x(x-1)}{(- 0.4 \\times 0.6) } $$\n",
    "\n",
    "$$\\ell_2(x) = \\frac{(x - x_0)(x-x_1)}{(x_2-x_0)(x_2-x_1)} = \\frac{(x - 0)(x-0.4)}{(1-0)(1-0.4)} = \\frac{x(x-0.4)}{0.6} $$\n",
    "\n",
    "and the Lagrange polynomial is\n",
    "\n",
    "$$ y = L(x) = \\ell_0(x)\\,y_0 + \\ell_1(x)\\,y_1 + \\ell_2(x)\\,y_2\n",
    "= 1\\times \\frac{(x - 0.4)(x-1)}{0.4} + 0.1\\times \\frac{x(x-1)}{(- 0.4 \\times 0.6) } + 0.5 \\times \n",
    "\\frac{x(x-0.4)}{0.6} $$"
   ]
  },
  {
   "cell_type": "code",
   "execution_count": 101,
   "metadata": {},
   "outputs": [
    {
     "data": {
      "text/plain": [
       "[<matplotlib.lines.Line2D at 0x20810b8fd08>]"
      ]
     },
     "execution_count": 101,
     "metadata": {},
     "output_type": "execute_result"
    },
    {
     "data": {
      "image/png": "[encoded data removed]",
      "text/plain": [
       "<Figure size 576x432 with 1 Axes>"
      ]
     },
     "metadata": {
      "needs_background": "light"
     },
     "output_type": "display_data"
    }
   ],
   "source": [
    "# let's plot this to check we're correct\n",
    "\n",
    "# set up figure\n",
    "fig = plt.figure(figsize=(8, 6))\n",
    "ax1 = fig.add_subplot(111)\n",
    "ax1.margins(0.1)\n",
    "\n",
    "x0 = 0\n",
    "y0 = 1\n",
    "x1 = 0.4\n",
    "y1 = 0.1\n",
    "x2 = 1\n",
    "y2 = 0.5\n",
    "\n",
    "x = np.linspace(-0.1, 1.1, 100)\n",
    "\n",
    "y = (x-0.4)*(x-1)/0.4 + 0.1*x*(x-1)/(-0.4*0.6) + 0.5*x*(x-0.4)/0.6\n",
    "\n",
    "ax1.plot(x, y, 'b')\n",
    "\n",
    "ax1.plot(x0,y0,'ro')\n",
    "ax1.plot(x1,y1,'ro')\n",
    "ax1.plot(x2,y2,'ro')"
   ]
  },
  {
   "cell_type": "code",
   "execution_count": 5,
   "metadata": {},
   "outputs": [
    {
     "name": "stdout",
     "output_type": "stream",
     "text": [
      "       2\n",
      "2.917 x - 3.417 x + 1\n"
     ]
    },
    {
     "data": {
      "image/png": "[encoded data removed]",
      "text/plain": [
       "<Figure size 576x432 with 1 Axes>"
      ]
     },
     "metadata": {
      "needs_background": "light"
     },
     "output_type": "display_data"
    }
   ],
   "source": [
    "# repeat using scipy\n",
    "\n",
    "xi = np.array([0, 0.4, 1])\n",
    "yi = np.array([1, 0.1, 0.5])\n",
    "\n",
    "# Create the Lagrange polynomial for the given points.\n",
    "lp = si.lagrange(xi, yi)\n",
    "print(lp)\n",
    "\n",
    "# Evaluate this function at a high resolution (100 points here) so that \n",
    "# we get a smooth well-resolved line when we plot our polynomial\n",
    "x = np.linspace(-0.1, 1.1, 100)\n",
    "\n",
    "# set up the figure\n",
    "fig = plt.figure(figsize=(8, 6))\n",
    "ax1 = fig.add_subplot(111)\n",
    "ax1.margins(0.1)\n",
    "\n",
    "# actually plot (x,y)=(x,lp(x)) on the axes with the label ax1\n",
    "ax1.plot(x, lp(x), 'b', label='Lagrange interpolating polynomial')\n",
    "\n",
    "ax1.plot(xi[0],yi[0],'ro')\n",
    "ax1.plot(xi[1],yi[1],'ro')\n",
    "ax1.plot(xi[2],yi[2],'ro')\n",
    "\n",
    "# Add a legend\n",
    "ax1.legend(loc='best', fontsize=14);"
   ]
  },
  {
   "cell_type": "code",
   "execution_count": 102,
   "metadata": {},
   "outputs": [
    {
     "data": {
      "image/png": "[encoded data removed]",
      "text/plain": [
       "<Figure size 576x432 with 1 Axes>"
      ]
     },
     "metadata": {
      "needs_background": "light"
     },
     "output_type": "display_data"
    }
   ],
   "source": [
    "# 3.2\n",
    "# to get 4 points that are interpolated by a quadratic (which isn't possible in general)\n",
    "# we can just evaluate and quadratic at 4 distinct x points, or to be fancy let's just\n",
    "# evaluate the polynomial from above at a new location:\n",
    "\n",
    "x4 = 0.8\n",
    "y4 = lp(x4)\n",
    "\n",
    "# set up the figure\n",
    "fig = plt.figure(figsize=(8, 6))\n",
    "ax1 = fig.add_subplot(111)\n",
    "ax1.margins(0.1)\n",
    "\n",
    "# actually plot (x,y)=(x,lp(x)) on the axes with the label ax1\n",
    "ax1.plot(x, lp(x), 'b', label='Lagrange interpolating polynomial')\n",
    "\n",
    "ax1.plot(xi[0],yi[0],'ro')\n",
    "ax1.plot(xi[1],yi[1],'ro')\n",
    "ax1.plot(xi[2],yi[2],'ro')\n",
    "ax1.plot(x4,y4,'ro')\n",
    "\n",
    "# Add a legend\n",
    "ax1.legend(loc='best', fontsize=14);"
   ]
  },
  {
   "cell_type": "code",
   "execution_count": null,
   "metadata": {},
   "outputs": [],
   "source": [
    "#3.3\n",
    "# we know that the quadratic f(x) = ax**2 + bx + c\n",
    "# has roots given by the expression that contains sqrt(b**2 - 4ac)\n",
    "# when b**2 - 4ac is postive we have two real roots\n",
    "# when it's zero we have one (repeated) root\n",
    "# when negative no real roots"
   ]
  },
  {
   "cell_type": "code",
   "execution_count": 103,
   "metadata": {},
   "outputs": [
    {
     "name": "stdout",
     "output_type": "stream",
     "text": [
      "-0.3819660112501052\n"
     ]
    }
   ],
   "source": [
    "a = 1\n",
    "b = 3\n",
    "c = 1\n",
    "\n",
    "def f(x):\n",
    "    return a*x**2 + b*x + c\n",
    "\n",
    "def dfdx(x):\n",
    "    return 2*a*x + b\n",
    "\n",
    "\n",
    "x0 = 0 # initial guess\n",
    "print(sop.newton(f, x0, dfdx))"
   ]
  },
  {
   "cell_type": "code",
   "execution_count": 114,
   "metadata": {},
   "outputs": [
    {
     "data": {
      "text/plain": [
       "[<matplotlib.lines.Line2D at 0x20812217fc8>]"
      ]
     },
     "execution_count": 114,
     "metadata": {},
     "output_type": "execute_result"
    },
    {
     "data": {
      "image/png": "[encoded data removed]",
      "text/plain": [
       "<Figure size 576x432 with 1 Axes>"
      ]
     },
     "metadata": {
      "needs_background": "light"
     },
     "output_type": "display_data"
    }
   ],
   "source": [
    "# set up the figure\n",
    "fig = plt.figure(figsize=(8, 6))\n",
    "ax1 = fig.add_subplot(111)\n",
    "ax1.margins(0.1)\n",
    "x = np.linspace(-5, 3, 100)\n",
    "ax1.plot(x, f(x))\n",
    "ax1.plot(-0.3819660112501052, 0, 'ro')\n"
   ]
  },
  {
   "cell_type": "code",
   "execution_count": 115,
   "metadata": {},
   "outputs": [
    {
     "name": "stdout",
     "output_type": "stream",
     "text": [
      "-2.618033988749895\n"
     ]
    }
   ],
   "source": [
    "# find the other root - clearly we should get this if we start from a smaller starting guess\n",
    "x0 = -3 # initial guess\n",
    "print(sop.newton(f, x0, dfdx))"
   ]
  },
  {
   "cell_type": "code",
   "execution_count": 110,
   "metadata": {},
   "outputs": [
    {
     "data": {
      "image/png": "[encoded data removed]",
      "text/plain": [
       "<Figure size 720x432 with 1 Axes>"
      ]
     },
     "metadata": {
      "needs_background": "light"
     },
     "output_type": "display_data"
    }
   ],
   "source": [
    "# we can plot what it's doing\n",
    "from mpl_toolkits.axes_grid1.inset_locator import zoomed_inset_axes\n",
    "from mpl_toolkits.axes_grid1.inset_locator import mark_inset\n",
    "\n",
    "def plot_newton(f, dx, x_0, atol, ax, inset=True, ixmin=3.0, ixmax=3.2, \n",
    "                iymin=-0.1, iymax=0.1, zoom=8, loc0=1, loc1=3, loc2=2, maxiter=100, resfct=100, flabel=''):\n",
    "    x_n = [x_0]\n",
    "    y_n = [f(x_0)]    \n",
    "    \n",
    "    # Newton iteration\n",
    "    i = 0\n",
    "    # iterate until we hit break either as we hit tolerance or maximum number iterations\n",
    "    while 1:\n",
    "        # approximate gradient - computed using a dx value \n",
    "        # note comments below on quasi-newton!!\n",
    "        dfdx = (f(x_n[-1]+dx) - f(x_n[-1])) / dx\n",
    "        # Newton-Raphson update\n",
    "        x_zero = x_n[-1] - ( f(x_n[-1]) / dfdx )\n",
    "        x_n.append(x_zero)        \n",
    "        y_n.append(0.)\n",
    "        if abs(x_n[-1]-x_n[-2]) < atol:\n",
    "            break\n",
    "        x_n.append(x_zero)\n",
    "        y_n.append(f(x_zero))\n",
    "        i = i+1\n",
    "        if i >= maxiter:\n",
    "            break\n",
    "        \n",
    "    # the iteration results\n",
    "    ax.scatter(x_n, f(np.array(x_n)), marker='x', color='red', s=30)\n",
    "    \n",
    "    # the convergence pattern\n",
    "    ax.plot(x_n, y_n, color='green', ls='--')\n",
    "        \n",
    "    # the function\n",
    "    x = np.linspace( np.min(x_n), np.max(x_n), resfct)\n",
    "    ax.plot(x, f(x), 'b')\n",
    "    \n",
    "    # zero line\n",
    "    xlim = ax.get_xlim()\n",
    "    ax.plot([xlim[0], xlim[1]], [0., 0.], 'k--')\n",
    "    ax.set_xlim(xlim)\n",
    "\n",
    "    # zoomed inset\n",
    "    if inset:\n",
    "        axins = zoomed_inset_axes(ax, zoom, loc=loc0)\n",
    "        axins.scatter(x_n, f(np.array(x_n)), marker='x', color='red', s=30)\n",
    "        axins.plot(x_n, y_n, color='green', ls='--')\n",
    "        axins.plot(x, f(x), 'b')\n",
    "        axins.plot([ixmin,ixmax],[0.,0.], 'k--')\n",
    "        axins.set_xlim(ixmin, ixmax)\n",
    "        axins.set_ylim(iymin, iymax)\n",
    "        axins.get_xaxis().set_visible(False)\n",
    "        axins.get_yaxis().set_visible(False)\n",
    "        mark_inset(ax, axins, loc1=loc1, loc2=loc2, fc=\"none\", ec=\"0.5\")\n",
    "    \n",
    "    ax.set_xlabel('$x$', fontsize=16)\n",
    "    if not flabel:\n",
    "        fl = '$f(x)$'\n",
    "    else:\n",
    "        fl = flabel\n",
    "    ax.set_ylabel(fl, fontsize=16)\n",
    "    ax.set_title(\"Newton's method iteration\", fontsize=20)\n",
    "\n",
    "fig, ax1 = plt.subplots(figsize=(10,6))\n",
    "x0 = 1\n",
    "plot_newton(f, 1.e-3, x0, 1.e-2, ax1, inset=False)\n"
   ]
  },
  {
   "cell_type": "markdown",
   "metadata": {},
   "source": [
    "It wil go wrong if we start from a \"flat\" part of the function, for this quadratic we know that the the derivative is $2ax+b$, this is zero when $x = -b/2a$.\n",
    "\n",
    "Let's try Newton at this value, and a little above and a little below:\n"
   ]
  },
  {
   "cell_type": "code",
   "execution_count": 117,
   "metadata": {},
   "outputs": [
    {
     "ename": "RuntimeError",
     "evalue": "Derivative was zero. Failed to converge after 1 iterations, value is -1.5.",
     "output_type": "error",
     "traceback": [
      "\u001b[1;31m---------------------------------------------------------------------------\u001b[0m",
      "\u001b[1;31mRuntimeError\u001b[0m                              Traceback (most recent call last)",
      "\u001b[1;32m<ipython-input-117-d05c7a71ac15>\u001b[0m in \u001b[0;36m<module>\u001b[1;34m\u001b[0m\n\u001b[0;32m     10\u001b[0m \u001b[1;33m\u001b[0m\u001b[0m\n\u001b[0;32m     11\u001b[0m \u001b[0mx0\u001b[0m \u001b[1;33m=\u001b[0m \u001b[1;33m-\u001b[0m\u001b[0mb\u001b[0m\u001b[1;33m/\u001b[0m\u001b[1;33m(\u001b[0m\u001b[1;36m2\u001b[0m\u001b[1;33m*\u001b[0m\u001b[0ma\u001b[0m\u001b[1;33m)\u001b[0m \u001b[1;31m# initial guess\u001b[0m\u001b[1;33m\u001b[0m\u001b[1;33m\u001b[0m\u001b[0m\n\u001b[1;32m---> 12\u001b[1;33m \u001b[0mprint\u001b[0m\u001b[1;33m(\u001b[0m\u001b[0msop\u001b[0m\u001b[1;33m.\u001b[0m\u001b[0mnewton\u001b[0m\u001b[1;33m(\u001b[0m\u001b[0mf\u001b[0m\u001b[1;33m,\u001b[0m \u001b[0mx0\u001b[0m\u001b[1;33m,\u001b[0m \u001b[0mdfdx\u001b[0m\u001b[1;33m)\u001b[0m\u001b[1;33m)\u001b[0m\u001b[1;33m\u001b[0m\u001b[1;33m\u001b[0m\u001b[0m\n\u001b[0m",
      "\u001b[1;32m~\\anaconda3\\lib\\site-packages\\scipy\\optimize\\zeros.py\u001b[0m in \u001b[0;36mnewton\u001b[1;34m(func, x0, fprime, args, tol, maxiter, fprime2, x1, rtol, full_output, disp)\u001b[0m\n\u001b[0;32m    294\u001b[0m                         \u001b[1;34m\" Failed to converge after %d iterations, value is %s.\"\u001b[0m\u001b[1;33m\u001b[0m\u001b[1;33m\u001b[0m\u001b[0m\n\u001b[0;32m    295\u001b[0m                         % (itr + 1, p0))\n\u001b[1;32m--> 296\u001b[1;33m                     \u001b[1;32mraise\u001b[0m \u001b[0mRuntimeError\u001b[0m\u001b[1;33m(\u001b[0m\u001b[0mmsg\u001b[0m\u001b[1;33m)\u001b[0m\u001b[1;33m\u001b[0m\u001b[1;33m\u001b[0m\u001b[0m\n\u001b[0m\u001b[0;32m    297\u001b[0m                 \u001b[0mwarnings\u001b[0m\u001b[1;33m.\u001b[0m\u001b[0mwarn\u001b[0m\u001b[1;33m(\u001b[0m\u001b[0mmsg\u001b[0m\u001b[1;33m,\u001b[0m \u001b[0mRuntimeWarning\u001b[0m\u001b[1;33m)\u001b[0m\u001b[1;33m\u001b[0m\u001b[1;33m\u001b[0m\u001b[0m\n\u001b[0;32m    298\u001b[0m                 return _results_select(\n",
      "\u001b[1;31mRuntimeError\u001b[0m: Derivative was zero. Failed to converge after 1 iterations, value is -1.5."
     ]
    }
   ],
   "source": [
    "a = 1\n",
    "b = 3\n",
    "c = 1\n",
    "\n",
    "def f(x):\n",
    "    return a*x**2 + b*x + c\n",
    "\n",
    "def dfdx(x):\n",
    "    return 2*a*x + b\n",
    "\n",
    "x0 = -b/(2*a) # initial guess\n",
    "print(sop.newton(f, x0, dfdx))"
   ]
  },
  {
   "cell_type": "code",
   "execution_count": 119,
   "metadata": {},
   "outputs": [
    {
     "name": "stdout",
     "output_type": "stream",
     "text": [
      "-0.3819660112501052\n",
      "-2.618033988749895\n"
     ]
    }
   ],
   "source": [
    "# failed as expected, now perturb a little in each direction\n",
    "\n",
    "x0 = -b/(2*a) +0.001\n",
    "print(sop.newton(f, x0, dfdx))\n",
    "\n",
    "\n",
    "x0 = -b/(2*a) -0.001\n",
    "print(sop.newton(f, x0, dfdx))\n"
   ]
  },
  {
   "cell_type": "markdown",
   "metadata": {},
   "source": [
    "Works fine, and as expected when starting either side of this flat section it converges to either root."
   ]
  },
  {
   "cell_type": "markdown",
   "metadata": {},
   "source": [
    "### Question 4 - numerical linear algebra [25 marks]\n",
    "\n",
    "<br>\n",
    "\n",
    "Consider the following set of linear equations\n",
    "\n",
    "\\begin{align*}\n",
    "  2x_0 + 3x_1 + x_2 + 5x_3 &= 4 \\\\[5pt]\n",
    "  8x_0 + 16x_1 + 7x_2 + 22x_3 &= 24 \\\\[5pt] \n",
    "  2x_0 + 15x_1 + 13x_2 + 19x_3 &= 30 \\\\[5pt]\n",
    "  -4x_0 + 2x_1 + 10x_2 + 11x_3 &= 13   \n",
    "\\end{align*}\n",
    "\n",
    "<br>\n",
    "\n",
    "**4.1 [12 marks]**\n",
    "\n",
    "Write this in matrix form ($A\\pmb{x}=\\pmb{b}$). In explaining the steps required to perform a transformation of the $A$ matrix into upper triangular, derive by hand the $L$ and $U$ matrices in the $LU$ decomposition of $A$. Compare your answer with that obtained from code to perform $LU$ decomposition from class.  Do **not** use partial pivoting, and in your hand derivation do not perform any row swaps.\n",
    "\n",
    "<br>\n",
    "\n",
    "**4.2  [3 marks]**\n",
    "\n",
    "Using the $L$ and $U$ from 4.1, solve the above linear system. Verify your answer against any other solution method available via NumPy of SciPy.\n",
    "\n",
    "<br>\n",
    "\n",
    "**4.3  [10 marks]**\n",
    "\n",
    "Explain the differences between a direct and an indirect/iterative solution method. Solve the above problem using Gauss-Seidel's method and comment on the agreement between the solution you obtain with Gauss-Seidel and that obtained in part 4.2. Demonstrate how you can make this agreement arbitrarily close.\n"
   ]
  },
  {
   "cell_type": "markdown",
   "metadata": {},
   "source": [
    "Starting from our $A$ matrix\n",
    "\n",
    "$$\n",
    "  A=\\begin{bmatrix}\n",
    "{\\color{black}2} & {\\color{black}3} & {\\color{black}1} & {\\color{black}5}\\\\\n",
    "{\\color{black}8} & {\\color{black}16} & {\\color{black}7} & {\\color{black}22}\\\\\n",
    "{\\color{black}2} & {\\color{black}15} & {\\color{black}13} & {\\color{black}19}\\\\\n",
    "{\\color{black}-4} & {\\color{black}2} & {\\color{black}10} & {\\color{black}11}\\\\\n",
    "    \\end{bmatrix}\n",
    "$$\n",
    "\n",
    "The required row operations to transform this into upper triangular form can be encoded by \n",
    "\n",
    "$$\n",
    "  \\begin{bmatrix}\n",
    "    {\\color{black}1} & {\\color{black}0} & {\\color{black}0} & {\\color{black}0}\\\\\n",
    "    {\\color{black}{-4}} & {\\color{black}1} & {\\color{black}0} & {\\color{black}0}\\\\\n",
    "    {\\color{black}{-1}} & {\\color{black}0} & {\\color{black}1} & {\\color{black}0}\\\\\n",
    "    {\\color{black}{2}} & {\\color{black}0} & {\\color{black}0} & {\\color{black}1}\\\\   \n",
    "  \\end{bmatrix}\\qquad\\times\\qquad\\begin{bmatrix}\n",
    "{\\color{black}2} & {\\color{black}3} & {\\color{black}1} & {\\color{black}5}\\\\\n",
    "{\\color{black}8} & {\\color{black}16} & {\\color{black}7} & {\\color{black}22}\\\\\n",
    "{\\color{black}2} & {\\color{black}15} & {\\color{black}13} & {\\color{black}19}\\\\\n",
    "{\\color{black}-4} & {\\color{black}2} & {\\color{black}10} & {\\color{black}11}\\\\\n",
    "    \\end{bmatrix}\\qquad=\\qquad\\begin{bmatrix}\n",
    "    {\\color{black}2} & {\\color{black}3} & {\\color{black}1} & {\\color{black}5}\\\\\n",
    "    {\\color{black}{0}} & {\\color{black}{4}} & {\\color{black}{3}} & {\\color{black}{2}}\\\\\n",
    "    {\\color{black}{0}} & {\\color{black}{12}} & {\\color{black}{12}} & {\\color{black}{14}}\\\\\n",
    "    {\\color{black}{0}} & {\\color{black}{8}} & {\\color{black}{12}} & {\\color{black}{21}}\\\\    \n",
    "  \\end{bmatrix}\n",
    "$$\n",
    "\n",
    "\\begin{equation*}\n",
    "  \\begin{bmatrix}\n",
    "    {\\color{black}1} & {\\color{black}0} & {\\color{black}0} & {\\color{black}0}\\\\\n",
    "    {\\color{black}0} & {\\color{black}1} & {\\color{black}0} & {\\color{black}0}\\\\\n",
    "    {\\color{black}0} & {\\color{black}{-3}} & {\\color{black}1} & {\\color{black}0}\\\\\n",
    "    {\\color{black}0} & {\\color{black}{-2}} & {\\color{black}0} & {\\color{black}1}\\\\\n",
    "  \\end{bmatrix}\\qquad\\times\\qquad\\begin{bmatrix}\n",
    "    {\\color{black}2} & {\\color{black}3} & {\\color{black}1} & {\\color{black}5}\\\\\n",
    "    {\\color{black}{0}} & {\\color{black}{4}} & {\\color{black}{3}} & {\\color{black}{2}}\\\\\n",
    "    {\\color{black}{0}} & {\\color{black}{12}} & {\\color{black}{12}} & {\\color{black}{14}}\\\\\n",
    "    {\\color{black}{0}} & {\\color{black}{8}} & {\\color{black}{12}} & {\\color{black}{21}}\\\\    \n",
    "  \\end{bmatrix}\\qquad=\\qquad\\begin{bmatrix}\n",
    "    {\\color{black}5} & {\\color{black}7} & {\\color{black}5} & {\\color{black}9}\\\\\n",
    "    {\\color{black}0} & {\\color{black}4} & {\\color{black}3} & {\\color{black}2}\\\\\n",
    "    {\\color{black}0} & {\\color{black}{0}} & {\\color{black}{3}} & {\\color{black}{8}}\\\\\n",
    "    {\\color{black}0} & {\\color{black}{0}} & {\\color{black}{6}} & {\\color{black}{17}}\\\\\n",
    "  \\end{bmatrix}\n",
    "\\end{equation*}\n",
    "\n",
    "\n",
    "\n",
    "\\begin{equation*}\n",
    "  \\begin{bmatrix}\n",
    "    {\\color{black}1} & {\\color{black}0} & {\\color{black}0} & {\\color{black}0}\\\\\n",
    "    {\\color{black}0} & {\\color{black}1} & {\\color{black}0} & {\\color{black}0}\\\\\n",
    "    {\\color{black}0} & {\\color{black}0} & {\\color{black}1} & {\\color{black}0}\\\\\n",
    "    {\\color{black}0} & {\\color{black}0} & {\\color{black}{-2}} & {\\color{black}{1}}\\\\\n",
    "  \\end{bmatrix}\\qquad\\times\\qquad\\begin{bmatrix}\n",
    "    {\\color{black}5} & {\\color{black}7} & {\\color{black}5} & {\\color{black}9}\\\\\n",
    "    {\\color{black}0} & {\\color{black}4} & {\\color{black}3} & {\\color{black}2}\\\\\n",
    "    {\\color{black}0} & {\\color{black}{0}} & {\\color{black}{3}} & {\\color{black}{8}}\\\\\n",
    "    {\\color{black}0} & {\\color{black}{0}} & {\\color{black}{6}} & {\\color{black}{17}}\\\\\n",
    "  \\end{bmatrix}\\qquad=\\qquad\\begin{bmatrix}\n",
    "    {\\color{black}2} & {\\color{black}3} & {\\color{black}1} & {\\color{black}5}\\\\\n",
    "    {\\color{black}0} & {\\color{black}4} & {\\color{black}3} & {\\color{black}2}\\\\\n",
    "    {\\color{black}0} & {\\color{black}0} & {\\color{black}3} & {\\color{black}8}\\\\\n",
    "    {\\color{black}0} & {\\color{black}0} & {\\color{black}{0}} & {\\color{black}{1}}\\\\\n",
    "  \\end{bmatrix}\n",
    "\\end{equation*}\n",
    "\n",
    "\n",
    "\n",
    "The RHS is the $U$ matrix, and from what we know in class the $L$ matrix is the inverse of the multiple of the multiplicative matrices on the left. Due to the special atomic form of these, this just entails combining the entries and swapping the signs of the off diagonals, i.e.\n",
    "\n",
    "$$L = \n",
    "\\begin{bmatrix}\n",
    "    {\\color{black}1} & {\\color{black}0} & {\\color{black}0} & {\\color{black}0}\\\\\n",
    "    {\\color{black}4} & {\\color{black}1} & {\\color{black}0} & {\\color{black}0}\\\\\n",
    "    {\\color{black}1} & {\\color{black}3} & {\\color{black}1} & {\\color{black}0}\\\\\n",
    "    {\\color{black}-2}& {\\color{black}2} & {\\color{black}{2}} & {\\color{black}{1}}\\\\\n",
    "  \\end{bmatrix}\n",
    "$$\n"
   ]
  },
  {
   "cell_type": "code",
   "execution_count": 136,
   "metadata": {},
   "outputs": [
    {
     "name": "stdout",
     "output_type": "stream",
     "text": [
      "23.999999999999854\n"
     ]
    },
    {
     "data": {
      "text/plain": [
       "True"
      ]
     },
     "execution_count": 136,
     "metadata": {},
     "output_type": "execute_result"
    }
   ],
   "source": [
    "# let's check\n",
    "\n",
    "A = np.array([[2., 3. , 1.,  5.],\n",
    "              [8., 16., 7.,  22.],\n",
    "              [2., 15., 13., 19.],\n",
    "              [-4.,2.,  10., 11.]])\n",
    "\n",
    "print(sl.det(A))\n",
    "\n",
    "L = np.array([[1., 0. , 0.,  0.],\n",
    "              [4., 1.,  0.,  0.],\n",
    "              [1., 3.,  1.,  0.],\n",
    "              [-2.,2.,  2.,  1.]])\n",
    "\n",
    "U = np.array([[2., 3. , 1.,  5.],\n",
    "              [0., 4.,  3.,  2.],\n",
    "              [0., 0.,  3.,  8.],\n",
    "              [0., 0.,  0.,  1.]])\n",
    "\n",
    "# check ?A=LU\n",
    "np.allclose(A, L @ U)"
   ]
  },
  {
   "cell_type": "code",
   "execution_count": 122,
   "metadata": {},
   "outputs": [
    {
     "name": "stdout",
     "output_type": "stream",
     "text": [
      "array([[ 2.,  3.,  1.,  5.],\n",
      "       [ 8., 16.,  7., 22.],\n",
      "       [ 2., 15., 13., 19.],\n",
      "       [-4.,  2., 10., 11.]])\n",
      "array([[ 1.,  0.,  0.,  0.],\n",
      "       [ 4.,  1.,  0.,  0.],\n",
      "       [ 1.,  3.,  1.,  0.],\n",
      "       [-2.,  2.,  2.,  1.]])\n",
      "array([[2., 3., 1., 5.],\n",
      "       [0., 4., 3., 2.],\n",
      "       [0., 0., 3., 8.],\n",
      "       [0., 0., 0., 1.]])\n"
     ]
    },
    {
     "data": {
      "text/plain": [
       "True"
      ]
     },
     "execution_count": 122,
     "metadata": {},
     "output_type": "execute_result"
    }
   ],
   "source": [
    "# see if what we computed above agrees with code\n",
    "\n",
    "from pprint import pprint\n",
    "\n",
    "\n",
    "def LU_dec(A):\n",
    "    # upper triangular matrix contains gaussian elimination result\n",
    "    # we won't change A in-place but create a local copy\n",
    "    A = A.copy()\n",
    "    m, n = A.shape\n",
    "    assert(n == m)  # this is designed to work for a square matrix\n",
    "    # lower triangular matrix has identity diagonal and scaling factors\n",
    "    # start from the identity:\n",
    "    L = np.identity(n)\n",
    "    # Loop over each pivot row.\n",
    "    for k in range(n):\n",
    "        # Loop over each equation below the pivot row.\n",
    "        for i in range(k+1, n):\n",
    "            # Define the scaling factor outside the innermost\n",
    "            # loop otherwise its value gets changed.\n",
    "            s = (A[i,k]/A[k,k])\n",
    "            for j in range(k, n):\n",
    "                A[i,j] = A[i,j] - s*A[k,j]\n",
    "            # scaling factors make up the lower matrix \n",
    "            L[i,k] = s\n",
    "    # A now is the upper triangular matrix U\n",
    "    return L, A\n",
    "\n",
    "\n",
    "A = np.array([[2., 3. , 1.,  5.],\n",
    "              [8., 16., 7.,  22.],\n",
    "              [2., 15., 13., 19.],\n",
    "              [-4.,2.,  10., 11.]])\n",
    "\n",
    "\n",
    "L, U = LU_dec(A)\n",
    "\n",
    "pprint(A)\n",
    "pprint(L)\n",
    "pprint(U)\n",
    "np.allclose(L @ U, A)"
   ]
  },
  {
   "cell_type": "code",
   "execution_count": 129,
   "metadata": {},
   "outputs": [
    {
     "name": "stdout",
     "output_type": "stream",
     "text": [
      "[-4.  3. -2.  1.]\n"
     ]
    }
   ],
   "source": [
    "# 4.2\n",
    "\n",
    "# Our RHS vector\n",
    "b=np.array([4,24,30,13])\n",
    "\n",
    "# use Scipy or Numpy to obtain a solution\n",
    "x = sl.inv(A)@b\n",
    "print(x)\n",
    "\n",
    "# or\n",
    "x = sl.solve(A,b)"
   ]
  },
  {
   "cell_type": "code",
   "execution_count": 133,
   "metadata": {},
   "outputs": [
    {
     "name": "stdout",
     "output_type": "stream",
     "text": [
      "[-4.  3. -2.  1.]\n"
     ]
    }
   ],
   "source": [
    "# We can use back and forward substitution as appropriate\n",
    "\n",
    "# This function assumes that A is already an upper triangular matrix.\n",
    "def backward_substitution(A, b):\n",
    "    n = np.size(b)    \n",
    "    x = np.zeros(n)\n",
    "    for k in range(n-1, -1, -1):\n",
    "        s = 0.\n",
    "        for j in range(k+1, n):\n",
    "            s = s + A[k, j]*x[j]\n",
    "        x[k] = (b[k] - s)/A[k, k]    \n",
    "    return x\n",
    "\n",
    "# This function assumes that A is already a lower triangular matrix.\n",
    "def forward_substitution(A, b):\n",
    "    n = np.size(b)    \n",
    "    x = np.zeros(n)\n",
    "    for k in range(n):\n",
    "        s = 0.\n",
    "        for j in range(k):\n",
    "            s = s + A[k, j]*x[j]\n",
    "        x[k] = (b[k] - s)/A[k, k]\n",
    "    \n",
    "    return x\n",
    "\n",
    "\n",
    "\n",
    "A = np.array([[2., 3. , 1.,  5.],\n",
    "              [8., 16., 7.,  22.],\n",
    "              [2., 15., 13., 19.],\n",
    "              [-4.,2.,  10., 11.]])\n",
    "\n",
    "b = np.array([4,24,30,13])\n",
    "\n",
    "L, U = LU_dec(A)\n",
    "\n",
    "y = forward_substitution(L, b)\n",
    "x = backward_substitution(U, y)\n",
    "print(x)"
   ]
  },
  {
   "cell_type": "code",
   "execution_count": 134,
   "metadata": {},
   "outputs": [],
   "source": [
    "# 4.3\n",
    "\n",
    "def gauss_seidel(A, b, maxit=500, tol=1.e-6):\n",
    "    m, n = A.shape\n",
    "    x = np.zeros(A.shape[0])\n",
    "    residuals = []\n",
    "    for k in range(maxit):\n",
    "        for i in range(m):\n",
    "            x[i] = (1./A[i, i]) * (b[i] \n",
    "                                   - np.dot(A[i,:i], x[:i]) \n",
    "                                   - np.dot(A[i,i+1:], x[i+1:])) \n",
    "        residual = sl.norm(A@x - b)\n",
    "        residuals.append(residual)\n",
    "        if (residual < tol): break\n",
    "        \n",
    "    return x, residuals"
   ]
  },
  {
   "cell_type": "code",
   "execution_count": 144,
   "metadata": {},
   "outputs": [
    {
     "name": "stdout",
     "output_type": "stream",
     "text": [
      "[-3.9978398   2.99897447 -1.9982885   0.99941607]\n"
     ]
    },
    {
     "data": {
      "image/png": "[encoded data removed]",
      "text/plain": [
       "<Figure size 432x288 with 1 Axes>"
      ]
     },
     "metadata": {
      "needs_background": "light"
     },
     "output_type": "display_data"
    },
    {
     "name": "stdout",
     "output_type": "stream",
     "text": [
      "False\n"
     ]
    }
   ],
   "source": [
    "A = np.array([[2., 3. , 1.,  5.],\n",
    "              [8., 16., 7.,  22.],\n",
    "              [2., 15., 13., 19.],\n",
    "              [-4.,2.,  10., 11.]])\n",
    "\n",
    "b = np.array([4,24,30,13])\n",
    "\n",
    "# an initial guess at the solution - here just a vector of zeros of length the number of rows in A\n",
    "x = np.zeros(A.shape[0]) \n",
    "\n",
    "tol = 1.e-4 # iteration tolerance\n",
    "it_max = 10000 # upper limit on iterations if we don't hit tolerance\n",
    "\n",
    "x_gs, res_gs = gauss_seidel(A,b, it_max, tol)\n",
    "print(x_gs)\n",
    "\n",
    "# plot the log of the residual against iteration number \n",
    "fig = plt.figure(figsize=(6, 4))\n",
    "ax1 = plt.subplot(111)\n",
    "ax1.semilogy(res_gs,'b.-',label='Gauss-Seidel')\n",
    "ax1.set_xlabel('Iteration')\n",
    "ax1.set_ylabel('Residual')\n",
    "ax1.set_title('Convergence plot')\n",
    "ax1.legend(loc='best')\n",
    "plt.show()\n",
    "\n",
    "# check our solutions agrees with multiplying through by the inverse matrix\n",
    "# [0] as our implemntations also return the residuals\n",
    "print(np.allclose(sl.inv(A)@b, gauss_seidel(A, b)[0]))\n"
   ]
  },
  {
   "cell_type": "code",
   "execution_count": 143,
   "metadata": {},
   "outputs": [
    {
     "name": "stdout",
     "output_type": "stream",
     "text": [
      "[-4.  3. -2.  1.]\n"
     ]
    },
    {
     "data": {
      "image/png": "[encoded data removed]",
      "text/plain": [
       "<Figure size 432x288 with 1 Axes>"
      ]
     },
     "metadata": {
      "needs_background": "light"
     },
     "output_type": "display_data"
    },
    {
     "name": "stdout",
     "output_type": "stream",
     "text": [
      "False\n"
     ]
    }
   ],
   "source": [
    "# This doesn't agree too closely with the solution from above\n",
    "# let's try with tighter tolerances\n",
    "\n",
    "A = np.array([[2., 3. , 1.,  5.],\n",
    "              [8., 16., 7.,  22.],\n",
    "              [2., 15., 13., 19.],\n",
    "              [-4.,2.,  10., 11.]])\n",
    "\n",
    "b = np.array([4,24,30,13])\n",
    "\n",
    "# an initial guess at the solution - here just a vector of zeros of length the number of rows in A\n",
    "x = np.zeros(A.shape[0]) \n",
    "\n",
    "\n",
    "tol = 1.e-12 # iteration tolerance\n",
    "it_max = 10000 # upper limit on iterations if we don't hit tolerance\n",
    "\n",
    "x_gs, res_gs = gauss_seidel(A,b, it_max, tol)\n",
    "print(x_gs)\n",
    "\n",
    "# plot the log of the residual against iteration number \n",
    "fig = plt.figure(figsize=(6, 4))\n",
    "ax1 = plt.subplot(111)\n",
    "ax1.semilogy(res_gs,'b.-',label='Gauss-Seidel')\n",
    "ax1.set_xlabel('Iteration')\n",
    "ax1.set_ylabel('Residual')\n",
    "ax1.set_title('Convergence plot')\n",
    "ax1.legend(loc='best')\n",
    "plt.show()\n",
    "\n",
    "# check our solutions agrees with multiplying through by the inverse matrix\n",
    "# [0] as our implemntations also return the residuals\n",
    "print(np.allclose(sl.inv(A)@b, gauss_seidel(A, b)[0]))\n"
   ]
  },
  {
   "cell_type": "code",
   "execution_count": 145,
   "metadata": {},
   "outputs": [
    {
     "name": "stdout",
     "output_type": "stream",
     "text": [
      "[-3.99999784  2.99999897 -1.99999829  0.99999941]\n",
      "[-3.99999978  2.9999999  -1.99999983  0.99999994]\n",
      "[-3.99999998  2.99999999 -1.99999998  0.99999999]\n",
      "[-4.  3. -2.  1.]\n"
     ]
    }
   ],
   "source": [
    "x_gs, res_gs = gauss_seidel(A,b, it_max, 1e-7)\n",
    "print(x_gs)\n",
    "\n",
    "x_gs, res_gs = gauss_seidel(A,b, it_max, 1e-8)\n",
    "print(x_gs)\n",
    "\n",
    "x_gs, res_gs = gauss_seidel(A,b, it_max, 1e-9)\n",
    "print(x_gs)\n",
    "\n",
    "x_gs, res_gs = gauss_seidel(A,b, it_max, 1e-10)\n",
    "print(x_gs)"
   ]
  },
  {
   "cell_type": "markdown",
   "metadata": {},
   "source": [
    "So the agreement with the exact result depends on how small we choose the tolerance (and/or how many iterations we allow the algorithm to perform)."
   ]
  },
  {
   "cell_type": "code",
   "execution_count": null,
   "metadata": {},
   "outputs": [],
   "source": []
  }
 ],
 "metadata": {
  "celltoolbar": "Slideshow",
  "kernelspec": {
   "display_name": "Python 3",
   "language": "python",
   "name": "python3"
  },
  "language_info": {
   "codemirror_mode": {
    "name": "ipython",
    "version": 3
   },
   "file_extension": ".py",
   "mimetype": "text/x-python",
   "name": "python",
   "nbconvert_exporter": "python",
   "pygments_lexer": "ipython3",
   "version": "3.7.3"
  },
  "toc": {
   "base_numbering": 1,
   "nav_menu": {},
   "number_sections": false,
   "sideBar": false,
   "skip_h1_title": false,
   "title_cell": "Table of Contents",
   "title_sidebar": "Contents",
   "toc_cell": false,
   "toc_position": {
    "height": "calc(100% - 180px)",
    "left": "10px",
    "top": "150px",
    "width": "258.313px"
   },
   "toc_section_display": false,
   "toc_window_display": false
  }
 },
 "nbformat": 4,
 "nbformat_minor": 1
}
